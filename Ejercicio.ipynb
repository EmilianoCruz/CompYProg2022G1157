{
  "nbformat": 4,
  "nbformat_minor": 0,
  "metadata": {
    "colab": {
      "name": "Ejercicio.ipynb",
      "provenance": [],
      "authorship_tag": "ABX9TyMKGHstzPR58XXN3grdsukp",
      "include_colab_link": true
    },
    "kernelspec": {
      "name": "python3",
      "display_name": "Python 3"
    },
    "language_info": {
      "name": "python"
    }
  },
  "cells": [
    {
      "cell_type": "markdown",
      "metadata": {
        "id": "view-in-github",
        "colab_type": "text"
      },
      "source": [
        "<a href=\"https://colab.research.google.com/github/EmilianoCruz/CompYProg2022G1157/blob/main/Ejercicio.ipynb\" target=\"_parent\"><img src=\"https://colab.research.google.com/assets/colab-badge.svg\" alt=\"Open In Colab\"/></a>"
      ]
    },
    {
      "cell_type": "code",
      "metadata": {
        "colab": {
          "base_uri": "https://localhost:8080/"
        },
        "id": "vh57_O_nNC6g",
        "outputId": "3324e830-7da2-4096-9683-fbb3744a521d"
      },
      "source": [
        "A= int(input(\"Introduce un número entero: \"))\n",
        "B= int(input(\"Introduce otro número entero: \"))\n",
        "C= int(input(\"Introduce otro número entero: \"))\n",
        "\n",
        "print(f\"\\nCapturaste el numero: {A}\")\n",
        "print(f\"Capturaste el numero: {B}\")\n",
        "print(f\"Capturaste el numero: {C}\")\n",
        "\n",
        "#Para que un numero sea diferente es A != B\n",
        "if A==B==C or A==B or A==C or B==C:\n",
        "    print(\"Son tres números diferentes\")\n",
        "if A>B:\n",
        "    if A>C:\n",
        "        if B>C:\n",
        "            print(f\"\\nLos números ordenados de mayor a menor son: {A}, {B},{C}\")\n",
        "        else: \n",
        "            print(f\"\\nLos números ordenados de mayor a menor son: {A}, {C},{B}\")\n",
        "    else:\n",
        "        print(f\"\\nLos números ordenados de mayor a menor son: {C}, {A}, {B}\")\n",
        "else: \n",
        "    if B>C:\n",
        "        if A>C:\n",
        "            print(f\"\\nLos números ordenados de mayor a menor son:{B}, {A}, {C}\")\n",
        "        else: \n",
        "            print(f\"\\nLos números ordenados de mayor a menor son: {B}, {C},{A}\")\n",
        "    else:\n",
        "        print(f\"\\nLos números ordenados de mayor a menor son: {C},{B},{A}\")\n",
        "\n",
        "print(\"\\nFin del programa\")"
      ],
      "execution_count": 1,
      "outputs": [
        {
          "output_type": "stream",
          "name": "stdout",
          "text": [
            "Introduce un número entero: 46\n",
            "Introduce otro número entero: 25\n",
            "Introduce otro número entero: 147\n",
            "\n",
            "Capturaste el numero: 46\n",
            "Capturaste el numero: 25\n",
            "Capturaste el numero: 147\n",
            "\n",
            "Los números ordenados de mayor a menor son: 147, 46, 25\n",
            "\n",
            "Fin del programa\n"
          ]
        }
      ]
    }
  ]
}