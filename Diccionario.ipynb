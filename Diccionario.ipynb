{
  "nbformat": 4,
  "nbformat_minor": 0,
  "metadata": {
    "colab": {
      "name": "Diccionario.ipynb",
      "provenance": [],
      "authorship_tag": "ABX9TyPOlcnhJoeQvyn7uPmHEApu",
      "include_colab_link": true
    },
    "kernelspec": {
      "name": "python3",
      "display_name": "Python 3"
    },
    "language_info": {
      "name": "python"
    }
  },
  "cells": [
    {
      "cell_type": "markdown",
      "metadata": {
        "id": "view-in-github",
        "colab_type": "text"
      },
      "source": [
        "<a href=\"https://colab.research.google.com/github/EmilianoCruz/CompYProg2022G1157/blob/main/Diccionario.ipynb\" target=\"_parent\"><img src=\"https://colab.research.google.com/assets/colab-badge.svg\" alt=\"Open In Colab\"/></a>"
      ]
    },
    {
      "cell_type": "code",
      "metadata": {
        "id": "-hM_-tj5L6zi"
      },
      "source": [
        "peliculas = {\n",
        "    \"pelicula1\":  \"La era de hielo\" ,\n",
        "    \"pelicula2\":  \"La era del hielo 2\"  ,\n",
        "    \"pelicula3\": \"La era del hielo 3\"   ,\n",
        "    \"pelicula4\":  \"La era del hielo 4: la formación de los contientes\" ,\n",
        "    \"pelicula5\":   \"La era del hielo 5:choque de mundos\"\n",
        "}"
      ],
      "execution_count": null,
      "outputs": []
    }
  ]
}