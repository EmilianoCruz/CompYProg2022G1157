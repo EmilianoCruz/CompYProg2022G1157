{
  "nbformat": 4,
  "nbformat_minor": 0,
  "metadata": {
    "colab": {
      "name": "Fundamentos3_Cyp_1157.ipynb",
      "provenance": [],
      "authorship_tag": "ABX9TyM8tlC9Rt7PWAmlGt/SLnEm",
      "include_colab_link": true
    },
    "kernelspec": {
      "name": "python3",
      "display_name": "Python 3"
    },
    "language_info": {
      "name": "python"
    }
  },
  "cells": [
    {
      "cell_type": "markdown",
      "metadata": {
        "id": "view-in-github",
        "colab_type": "text"
      },
      "source": [
        "<a href=\"https://colab.research.google.com/github/EmilianoCruz/CompYProg2022G1157/blob/main/Fundamentos3_Cyp_1157.ipynb\" target=\"_parent\"><img src=\"https://colab.research.google.com/assets/colab-badge.svg\" alt=\"Open In Colab\"/></a>"
      ]
    },
    {
      "cell_type": "markdown",
      "metadata": {
        "id": "HNoXRfK5M9q-"
      },
      "source": [
        "#23 de Noviembre"
      ]
    },
    {
      "cell_type": "markdown",
      "metadata": {
        "id": "-BtealW7FmZ5"
      },
      "source": [
        "Repetición: \n",
        "\n",
        "Este tipo de estructura nos permite automatizar la ejecución repetitiva de código mientras ciertas condiciones se cumplan, tenemos 3 variantes de esta estructura en todos los lenguajes de programación:\n",
        "   \n",
        "- Desde.....hasta(estructura for)\n",
        "- Haz mientras (estructura while) \n",
        "- Haz y luego validaz mientras(estructura Do-While)\n",
        "\n",
        "#FOR CON phyton \n",
        "\n",
        "```\n",
        "for j un range(10):\n",
        "    print(f\"Hola {j}\")\n",
        "```\n",
        "#FOR con Leg C y/o Java\n",
        "```\n",
        "for (int j =0 ; j<10 ; j=j+1){\n",
        "    printf(\"Hola %i \\n\", j);\n",
        "}\n",
        "```\n",
        "En todos los lenguajes de programación existe un tipo especial de for, conocido como **for-each**\n",
        "\n",
        "#For-each en en python\n",
        "```\n",
        "for color un colores:\n",
        "    print(f\"Este es el color { color }\")\n",
        "\n",
        "````"
      ]
    },
    {
      "cell_type": "code",
      "metadata": {
        "colab": {
          "base_uri": "https://localhost:8080/"
        },
        "id": "2sxXXkCyFPg1",
        "outputId": "e43b22d4-f3cb-4a10-9835-d0431f997770"
      },
      "source": [
        "# funcion range ()\n",
        "# range(<INICIO>,<STOP>,<INCREMENTO>)\n",
        "x = range(0,10,2)\n",
        "print(x)\n",
        "\n",
        "for j in range (10): # range(0,10) --> 0,1,2,3,4,5,6,7,8,9\n",
        "    print(f\"Hola {j}\")\n",
        "\n",
        "print(\"-----------------------------\")\n",
        "for j in range (0,10,2): # range(0,10,2) --> 0,2,4,6,8\n",
        "    print(f\"Hola {j}\")\n",
        "\n",
        "print(\"......\")\n",
        "frutas = [\"Uva\", \"Aguacate\",\"pera\", \"manzana\", \"sandia\"]\n",
        "print(frutas[0])\n",
        "print(frutas[1])\n",
        "print(frutas[2])\n",
        "print(frutas[3])\n",
        "print(frutas[4])\n",
        "\n",
        "\n",
        "print(\"------------\")\n",
        "for index in range(5):\n",
        "    print(frutas[index])\n",
        "\n",
        "for i in range(5):\n",
        "    print(\"+++++\")"
      ],
      "execution_count": 18,
      "outputs": [
        {
          "output_type": "stream",
          "name": "stdout",
          "text": [
            "range(0, 10, 2)\n",
            "Hola 0\n",
            "Hola 1\n",
            "Hola 2\n",
            "Hola 3\n",
            "Hola 4\n",
            "Hola 5\n",
            "Hola 6\n",
            "Hola 7\n",
            "Hola 8\n",
            "Hola 9\n",
            "-----------------------------\n",
            "Hola 0\n",
            "Hola 2\n",
            "Hola 4\n",
            "Hola 6\n",
            "Hola 8\n",
            "......\n",
            "Uva\n",
            "Aguacate\n",
            "pera\n",
            "manzana\n",
            "sandia\n",
            "------------\n",
            "Uva\n",
            "Aguacate\n",
            "pera\n",
            "manzana\n",
            "sandia\n",
            "+++++\n",
            "+++++\n",
            "+++++\n",
            "+++++\n",
            "+++++\n"
          ]
        }
      ]
    }
  ]
}