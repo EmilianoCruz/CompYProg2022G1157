{
  "nbformat": 4,
  "nbformat_minor": 0,
  "metadata": {
    "colab": {
      "name": "Fundamentos3_Cyp_1157.ipynb",
      "provenance": [],
      "authorship_tag": "ABX9TyOLRjVwmJ3x0wjr0d80KkSX",
      "include_colab_link": true
    },
    "kernelspec": {
      "name": "python3",
      "display_name": "Python 3"
    },
    "language_info": {
      "name": "python"
    }
  },
  "cells": [
    {
      "cell_type": "markdown",
      "metadata": {
        "id": "view-in-github",
        "colab_type": "text"
      },
      "source": [
        "<a href=\"https://colab.research.google.com/github/EmilianoCruz/CompYProg2022G1157/blob/main/Fundamentos3_Cyp_1157.ipynb\" target=\"_parent\"><img src=\"https://colab.research.google.com/assets/colab-badge.svg\" alt=\"Open In Colab\"/></a>"
      ]
    },
    {
      "cell_type": "markdown",
      "metadata": {
        "id": "HNoXRfK5M9q-"
      },
      "source": [
        "#26 de Noviembre"
      ]
    },
    {
      "cell_type": "markdown",
      "metadata": {
        "id": "-BtealW7FmZ5"
      },
      "source": [
        "Repetición: \n",
        "\n",
        "Este tipo de estructura nos permite automatizar la ejecución repetitiva de código mientras ciertas condiciones se cumplan, tenemos 3 variantes de esta estructura en todos los lenguajes de programación:\n",
        "   \n",
        "- Desde.....hasta(estructura for)\n",
        "- Haz mientras (estructura while) \n",
        "- Haz y luego validaz mientras(estructura Do-While)\n",
        "\n",
        "#FOR CON phyton \n",
        "\n",
        "```\n",
        "for j un range(10):\n",
        "    print(f\"Hola {j}\")\n",
        "```\n",
        "#FOR con Leg C y/o Java\n",
        "```\n",
        "for (int j =0 ; j<10 ; j=j+1){\n",
        "    printf(\"Hola %i \\n\", j);\n",
        "}\n",
        "```\n",
        "En todos los lenguajes de programación existe un tipo especial de for, conocido como **for-each**\n",
        "\n",
        "#For-each en en python\n",
        "```\n",
        "for color un colores:\n",
        "    print(f\"Este es el color { color }\")\n",
        "\n",
        "````"
      ]
    },
    {
      "cell_type": "code",
      "metadata": {
        "colab": {
          "base_uri": "https://localhost:8080/"
        },
        "id": "2sxXXkCyFPg1",
        "outputId": "e43b22d4-f3cb-4a10-9835-d0431f997770"
      },
      "source": [
        "# funcion range ()\n",
        "# range(<INICIO>,<STOP>,<INCREMENTO>)\n",
        "x = range(0,10,2)\n",
        "print(x)\n",
        "\n",
        "for j in range (10): # range(0,10) --> 0,1,2,3,4,5,6,7,8,9\n",
        "    print(f\"Hola {j}\")\n",
        "\n",
        "print(\"-----------------------------\")\n",
        "for j in range (0,10,2): # range(0,10,2) --> 0,2,4,6,8\n",
        "    print(f\"Hola {j}\")\n",
        "\n",
        "print(\"......\")\n",
        "frutas = [\"Uva\", \"Aguacate\",\"pera\", \"manzana\", \"sandia\"]\n",
        "print(frutas[0])\n",
        "print(frutas[1])\n",
        "print(frutas[2])\n",
        "print(frutas[3])\n",
        "print(frutas[4])\n",
        "\n",
        "\n",
        "print(\"------------\")\n",
        "for index in range(5):\n",
        "    print(frutas[index])\n",
        "\n",
        "for i in range(5):\n",
        "    print(\"+++++\")"
      ],
      "execution_count": null,
      "outputs": [
        {
          "output_type": "stream",
          "name": "stdout",
          "text": [
            "range(0, 10, 2)\n",
            "Hola 0\n",
            "Hola 1\n",
            "Hola 2\n",
            "Hola 3\n",
            "Hola 4\n",
            "Hola 5\n",
            "Hola 6\n",
            "Hola 7\n",
            "Hola 8\n",
            "Hola 9\n",
            "-----------------------------\n",
            "Hola 0\n",
            "Hola 2\n",
            "Hola 4\n",
            "Hola 6\n",
            "Hola 8\n",
            "......\n",
            "Uva\n",
            "Aguacate\n",
            "pera\n",
            "manzana\n",
            "sandia\n",
            "------------\n",
            "Uva\n",
            "Aguacate\n",
            "pera\n",
            "manzana\n",
            "sandia\n",
            "+++++\n",
            "+++++\n",
            "+++++\n",
            "+++++\n",
            "+++++\n"
          ]
        }
      ]
    },
    {
      "cell_type": "code",
      "metadata": {
        "colab": {
          "base_uri": "https://localhost:8080/"
        },
        "id": "sd5GJ0obL1qx",
        "outputId": "b3f285c7-9318-42e5-cb20-eaff2b56a7bf"
      },
      "source": [
        "for x in range (1, 20, 1):\n",
        "    print(x)\n",
        "print(\"Fin del programa\")\n",
        "\n",
        "for x in range (19, 0, -1):\n",
        "    print(x)\n",
        "print(\"Fin del programa\")"
      ],
      "execution_count": null,
      "outputs": [
        {
          "output_type": "stream",
          "name": "stdout",
          "text": [
            "1\n",
            "2\n",
            "3\n",
            "4\n",
            "5\n",
            "6\n",
            "7\n",
            "8\n",
            "9\n",
            "10\n",
            "11\n",
            "12\n",
            "13\n",
            "14\n",
            "15\n",
            "16\n",
            "17\n",
            "18\n",
            "19\n",
            "Fin del programa\n",
            "19\n",
            "18\n",
            "17\n",
            "16\n",
            "15\n",
            "14\n",
            "13\n",
            "12\n",
            "11\n",
            "10\n",
            "9\n",
            "8\n",
            "7\n",
            "6\n",
            "5\n",
            "4\n",
            "3\n",
            "2\n",
            "1\n",
            "Fin del programa\n"
          ]
        }
      ]
    },
    {
      "cell_type": "code",
      "metadata": {
        "colab": {
          "base_uri": "https://localhost:8080/"
        },
        "id": "Vr44I7jdPKpl",
        "outputId": "637ba1c5-db43-4c65-8e5d-64360ee36df1"
      },
      "source": [
        "#Ejemplo 3.3\n",
        "CUECER=0\n",
        "NUM = 0\n",
        "N= int(input(\"un valor numerico mayor que 1: \"))\n",
        "for I in range(1, N+1 ,1 ):\n",
        "    N=int(input(\"un valor numerico mayor que : \"))\n",
        "    if N == 0:\n",
        "        CUECER += 1\n",
        "print(\"CUECER=\", CUECER)"
      ],
      "execution_count": null,
      "outputs": [
        {
          "output_type": "stream",
          "name": "stdout",
          "text": [
            "un valor numerico mayor que 1: 4\n",
            "un valor numerico mayor que 1: 0\n",
            "un valor numerico mayor que 1: 0\n",
            "un valor numerico mayor que 1: 1\n",
            "un valor numerico mayor que 1: 1\n",
            "CUECER= 2\n"
          ]
        }
      ]
    },
    {
      "cell_type": "code",
      "metadata": {
        "colab": {
          "base_uri": "https://localhost:8080/"
        },
        "id": "UBhNNaIsQteN",
        "outputId": "a930f097-b2fd-4664-e3af-b69f815d5bda"
      },
      "source": [
        "for f in range (1,11):\n",
        "    print(f\"7 x {f} = {7 * f}\")\n",
        "print(f)"
      ],
      "execution_count": null,
      "outputs": [
        {
          "output_type": "stream",
          "name": "stdout",
          "text": [
            "7 x 1 = 7\n",
            "7 x 2 = 14\n",
            "7 x 3 = 21\n",
            "7 x 4 = 28\n",
            "7 x 5 = 35\n",
            "7 x 6 = 42\n",
            "7 x 7 = 49\n",
            "7 x 8 = 56\n",
            "7 x 9 = 63\n",
            "7 x 10 = 70\n",
            "10\n"
          ]
        }
      ]
    },
    {
      "cell_type": "code",
      "metadata": {
        "colab": {
          "base_uri": "https://localhost:8080/"
        },
        "id": "_iPwmm1lUTYj",
        "outputId": "2a59a7d2-58cd-4c7f-b61e-4bbe813eef23"
      },
      "source": [
        "N1= int(input(\"Dame un número entre 1 y 5: \"))\n",
        "if N1>0 and N1<=5:\n",
        "    N2 = int(input(f\"Dame un número entre {N1} y 10: \"))\n",
        "    if N2 >= N1 and N2 <=10:\n",
        "        for i in range(N1, N2+1):\n",
        "            for j in range(1,11):\n",
        "                print(f\"{i} x {j}=\", i*j)\n",
        "            print(\"---------\")\n",
        "\n",
        "else:\n",
        "    print(\"Valor fuera del rango 1-5\")\n"
      ],
      "execution_count": null,
      "outputs": [
        {
          "output_type": "stream",
          "name": "stdout",
          "text": [
            "Dame un número entre 1 y 5: 2\n",
            "Dame un número entre 2 y 10: 3\n",
            "2 x 1= 2\n",
            "2 x 2= 4\n",
            "2 x 3= 6\n",
            "2 x 4= 8\n",
            "2 x 5= 10\n",
            "2 x 6= 12\n",
            "2 x 7= 14\n",
            "2 x 8= 16\n",
            "2 x 9= 18\n",
            "2 x 10= 20\n",
            "---------\n",
            "3 x 1= 3\n",
            "3 x 2= 6\n",
            "3 x 3= 9\n",
            "3 x 4= 12\n",
            "3 x 5= 15\n",
            "3 x 6= 18\n",
            "3 x 7= 21\n",
            "3 x 8= 24\n",
            "3 x 9= 27\n",
            "3 x 10= 30\n",
            "---------\n"
          ]
        }
      ]
    },
    {
      "cell_type": "code",
      "metadata": {
        "colab": {
          "base_uri": "https://localhost:8080/"
        },
        "id": "D0SGlSJLVzoO",
        "outputId": "84db20b9-2b19-4e21-dd58-93b67cdf0dd0"
      },
      "source": [
        "# Generadores de listas\n",
        "numeros = [0,0,0,0,0]\n",
        "print(numeros)\n",
        "\n",
        "numeros=[0 for x in range(5)]\n",
        "print(numeros)\n",
        "\n",
        "#Empleando la variable de control x para la variable incial\n",
        "numeros=[x for x in range(5)]\n",
        "print(numeros)\n",
        "\n",
        "numeros=[(x+1)*10 for x in range (10)]\n",
        "print(numeros)\n",
        "\n",
        "print(\".-.-.-..-\")\n",
        "\n",
        "numeros=[x for x in range (10,101,10)]\n",
        "print(numeros)\n",
        "\n",
        "print(\".-.-.-..-\")\n",
        "\n",
        "numeros=[x*10 for x in range (1,11)]\n",
        "print(numeros)"
      ],
      "execution_count": null,
      "outputs": [
        {
          "output_type": "stream",
          "name": "stdout",
          "text": [
            "[0, 0, 0, 0, 0]\n",
            "[0, 0, 0, 0, 0]\n",
            "[0, 1, 2, 3, 4]\n",
            "[10, 20, 30, 40, 50, 60, 70, 80, 90, 100]\n",
            ".-.-.-..-\n",
            "[10, 20, 30, 40, 50, 60, 70, 80, 90, 100]\n",
            ".-.-.-..-\n",
            "[10, 20, 30, 40, 50, 60, 70, 80, 90, 100]\n"
          ]
        }
      ]
    },
    {
      "cell_type": "code",
      "metadata": {
        "colab": {
          "base_uri": "https://localhost:8080/"
        },
        "id": "9-aZdAIdYT78",
        "outputId": "3bda08ab-eaf6-4f99-f7c5-657ff6e77f6c"
      },
      "source": [
        "#Calcular promedio de edadeas\n",
        "suma=0\n",
        "edades=[0 for x in range(5)]\n",
        "for x in range(5):\n",
        "        edades[x]=int(input(\"Dame una edad: \"))\n",
        "        suma=suma+edades[x]\n",
        "print(edades)\n",
        "print(\"Promedio: \", suma/5)\n"
      ],
      "execution_count": null,
      "outputs": [
        {
          "output_type": "stream",
          "name": "stdout",
          "text": [
            "Dame una edad: 65\n",
            "Dame una edad: 18\n",
            "Dame una edad: 14\n",
            "Dame una edad: 29\n",
            "Dame una edad: 25\n",
            "[65, 18, 14, 29, 25]\n",
            "Promedio:  30.2\n"
          ]
        }
      ]
    },
    {
      "cell_type": "code",
      "metadata": {
        "colab": {
          "base_uri": "https://localhost:8080/"
        },
        "id": "SwFxLZnccUUS",
        "outputId": "1865fee3-236c-4eda-9051-98c7ef242f50"
      },
      "source": [
        "import random\n",
        "print(random.random())\n",
        "print(random.uniform(5,11))\n",
        "val= round(random.uniform(5,11) , 2)\n",
        "print(val)\n",
        "\n",
        "valores= [round(random.uniform(5,11),2) for x in range(20)]\n",
        "print(valores)"
      ],
      "execution_count": null,
      "outputs": [
        {
          "output_type": "stream",
          "name": "stdout",
          "text": [
            "0.0869522655600965\n",
            "10.000340379858965\n",
            "8.6\n",
            "[7.67, 8.23, 7.85, 10.7, 8.79, 6.07, 7.5, 7.61, 10.49, 10.31, 9.6, 9.94, 9.41, 5.39, 7.96, 7.39, 5.29, 7.45, 5.97, 5.55]\n"
          ]
        }
      ]
    },
    {
      "cell_type": "markdown",
      "metadata": {
        "id": "6q7ISfW250PV"
      },
      "source": [
        "#Estructura de control de repetición Haz-mientras.\n",
        "Una estructura de control haz-mientras nos permite ejecutar repetidamente mientras una condición se siga cumpliendo.\n",
        "\n",
        "###Sintaxis\n",
        "\n",
        "```\n",
        "while<condición>:\n",
        "    <Bloque de sentencias a ejecutar repetidamente>\n",
        "<Siguiente sentencia del programa>\n",
        "```\n",
        "\n",
        "La diferebcua principal en comparación con la estrucutea for es que con WHILE **NO** conoces el número de ciclos a ejecutar, en for si se conoce.\n",
        "Cómo ejemplo iniciemos el siguiente enunciado.\n",
        "\n",
        "Hacer un programa que solicite un valor entero positivo y calcule repetidamente la mitad y se reasigne a la misma variable. El ciclo se debe detener cuando el resultado sea menor que 1.\n",
        "\n",
        "Mostrar en pantalla el resultado de cada cálculo y al final de iteraciones que realizó."
      ]
    },
    {
      "cell_type": "code",
      "metadata": {
        "colab": {
          "base_uri": "https://localhost:8080/"
        },
        "id": "ike17n6P7y6Q",
        "outputId": "39c39b9d-a7aa-40ec-e664-00d5d9b5cd6a"
      },
      "source": [
        "valor= int(input(\"Introduce un numero entero positivo: \"))\n",
        "contador=0\n",
        "if valor>0:\n",
        "    while valor>1.0:\n",
        "        valor=valor /2\n",
        "        print(round(valor,2))\n",
        "        contador+=1\n",
        "else:\n",
        "    print(\"El número es negativo, intenta de nuevo\")\n",
        "print(\"Total de interaciones\", contador)\n",
        "\n"
      ],
      "execution_count": 1,
      "outputs": [
        {
          "output_type": "stream",
          "name": "stdout",
          "text": [
            "Introduce un numero entero positivo: 17\n",
            "8.5\n",
            "4.25\n",
            "2.12\n",
            "1.06\n",
            "0.53\n",
            "Total de interaciones 5\n"
          ]
        }
      ]
    },
    {
      "cell_type": "code",
      "metadata": {
        "colab": {
          "base_uri": "https://localhost:8080/"
        },
        "id": "wY7fN81a8mXX",
        "outputId": "096a2798-0d95-4489-9638-a4ba30f310b0"
      },
      "source": [
        "valor=int(input(\"Dame un valor entero: \"))\n",
        "\n",
        "while valor!=0:\n",
        "    print(valor)\n",
        "    valor=int(input(\"Dame un valor entero: \"))\n",
        "print(\"FIN del programa\")"
      ],
      "execution_count": 2,
      "outputs": [
        {
          "output_type": "stream",
          "name": "stdout",
          "text": [
            "Dame un valor entero: 2\n",
            "2\n",
            "Dame un valor entero: 0\n",
            "FIN del programa\n"
          ]
        }
      ]
    },
    {
      "cell_type": "code",
      "metadata": {
        "id": "pd0gkV6M9y39"
      },
      "source": [
        "valor=int(input(\"Dame un valor entero: \"))\n",
        "while valor !=0:\n",
        "    print(valor)\n",
        "    print(\"Otras cosas\")\n",
        "print(\"FIN DEL PROGRAMA\")"
      ],
      "execution_count": null,
      "outputs": []
    },
    {
      "cell_type": "code",
      "metadata": {
        "colab": {
          "base_uri": "https://localhost:8080/"
        },
        "id": "MEDirFqnPuLq",
        "outputId": "086034ec-bef9-434a-fba0-cc12ec179949"
      },
      "source": [
        "comprobar= True\n",
        "\n",
        "while comprobar==True:\n",
        "    n=int(input(\"Ingrese un número entero positivo: \"))\n",
        "    \n",
        "    if n>0:\n",
        "        i=1 \n",
        "        while i<11:\n",
        "            print(n, \"por\", i, \"es igual a:\", n*i)\n",
        "            i += 1\n",
        "            comprobar=False\n",
        "    else:\n",
        "        print(\"El numero ingresado no es correcto. Intente de nuevo\")\n",
        "        "
      ],
      "execution_count": 17,
      "outputs": [
        {
          "output_type": "stream",
          "name": "stdout",
          "text": [
            "Ingrese un número entero positivo: 5\n",
            "5 por 1 es igual a: 5\n",
            "5 por 2 es igual a: 10\n",
            "5 por 3 es igual a: 15\n",
            "5 por 4 es igual a: 20\n",
            "5 por 5 es igual a: 25\n",
            "5 por 6 es igual a: 30\n",
            "5 por 7 es igual a: 35\n",
            "5 por 8 es igual a: 40\n",
            "5 por 9 es igual a: 45\n",
            "5 por 10 es igual a: 50\n"
          ]
        }
      ]
    },
    {
      "cell_type": "code",
      "metadata": {
        "colab": {
          "base_uri": "https://localhost:8080/"
        },
        "id": "VDznonadMX8D",
        "outputId": "4ecccca0-356c-48ff-f8e3-57c1b084c0c2"
      },
      "source": [
        "comprobar=True\n",
        "\n",
        "while comprobar==True:\n",
        "\n",
        "    n= int(input(\"Ingrese un número entero positivo: \"))\n",
        "\n",
        "    if n>0:\n",
        "        comprobar= False\n",
        "        resultado=0\n",
        "    \n",
        "        for i in range(1,n+1):\n",
        "        \n",
        "            resultado +=(1/i)\n",
        "            print(\"el resultado de la serie es:\", resultado)5\n",
        "    else:\n",
        "        print(\"el número ingresado no es correcto, intente con nuevo\")"
      ],
      "execution_count": 11,
      "outputs": [
        {
          "output_type": "stream",
          "name": "stdout",
          "text": [
            "Ingrese un número entero positivo: 5\n",
            "el resultado de la serie es: 1.0\n",
            "el resultado de la serie es: 1.5\n",
            "el resultado de la serie es: 1.8333333333333333\n",
            "el resultado de la serie es: 2.083333333333333\n",
            "el resultado de la serie es: 2.283333333333333\n"
          ]
        }
      ]
    }
  ]
}