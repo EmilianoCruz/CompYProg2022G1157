{
  "nbformat": 4,
  "nbformat_minor": 0,
  "metadata": {
    "colab": {
      "name": "Fundamentos2_Cyp_1157.ipynb",
      "provenance": [],
      "authorship_tag": "ABX9TyMMS25TEvUeOCPlZn6QPEui",
      "include_colab_link": true
    },
    "kernelspec": {
      "name": "python3",
      "display_name": "Python 3"
    },
    "language_info": {
      "name": "python"
    }
  },
  "cells": [
    {
      "cell_type": "markdown",
      "metadata": {
        "id": "view-in-github",
        "colab_type": "text"
      },
      "source": [
        "<a href=\"https://colab.research.google.com/github/EmilianoCruz/CompYProg2022G1157/blob/main/Fundamentos2_Cyp_1157.ipynb\" target=\"_parent\"><img src=\"https://colab.research.google.com/assets/colab-badge.svg\" alt=\"Open In Colab\"/></a>"
      ]
    },
    {
      "cell_type": "markdown",
      "metadata": {
        "id": "IckxxLvdWNzS"
      },
      "source": [
        "# 18 Noviembre de 2021"
      ]
    },
    {
      "cell_type": "markdown",
      "metadata": {
        "id": "fpJXnb8RFbp-"
      },
      "source": [
        "# Tipos de datos estructurados de python\n",
        "\n",
        "1. Listas\n",
        "2. Tuplas\n",
        "3. Diccionarios\n",
        "4. Conjuntos (opcional)"
      ]
    },
    {
      "cell_type": "markdown",
      "metadata": {
        "id": "PWw5LxMnFsoy"
      },
      "source": [
        "# Listas\n",
        "\n",
        "- Tipo de dato que agrupa variables o valores.\n",
        "- Estructura secuencial (indexados empezando por 0)\n",
        "- Se declara de dos formas#\n",
        "  - usando [ ]\n",
        "  - usando list()\n",
        "  -usando un generador\n",
        "- Puede contener tipo de dato diversos (En otros lenguajes de programación eso no es posible de forma directa)\n",
        "- Los elementos internos se seleccionan con [ ]\n",
        "- Soporta slicing\n",
        "- SON MUTABLES\n",
        "- GENERADORES [var for x in range(10)]\n",
        "- Al ser una clase contiene muchos metodos útiles\n"
      ]
    },
    {
      "cell_type": "code",
      "metadata": {
        "id": "8Jf2l0Pw9Ity",
        "colab": {
          "base_uri": "https://localhost:8080/"
        },
        "outputId": "0ecff01f-4286-4700-b112-a58a94c88d23"
      },
      "source": [
        "numeros = [10, 5, 2, 3, 1]\n",
        "print(numeros)\n",
        "\n",
        "numeros2 = list()\n",
        "numeros2.append(10)\n",
        "numeros2.append(5)\n",
        "numeros2.append(2)\n",
        "numeros2.append(3)\n",
        "numeros2.append(1)\n",
        "print(numeros2)\n",
        "\n",
        "numeros[2] = 20\n",
        "print(numeros)\n",
        "numeros[-1] = 33\n",
        "numeros.append(88)\n",
        "print(numeros)\n",
        "\n"
      ],
      "execution_count": null,
      "outputs": [
        {
          "output_type": "stream",
          "name": "stdout",
          "text": [
            "[10, 5, 2, 3, 1]\n",
            "[10, 5, 2, 3, 1]\n",
            "[10, 5, 20, 3, 1]\n",
            "[10, 5, 20, 3, 33, 88]\n"
          ]
        }
      ]
    },
    {
      "cell_type": "code",
      "metadata": {
        "colab": {
          "base_uri": "https://localhost:8080/"
        },
        "id": "eoxktBWwIcmG",
        "outputId": "3141b3f8-2fce-44a3-ed4d-05ec5bc3a2fa"
      },
      "source": [
        "# tipos de diversos\n",
        "\n",
        "cosas = [12, 2, True, \"José\", 1.57, [\"pera\", \"kiwi\", \"uva\"]]\n",
        "print(cosas)\n",
        "print( cosas[1] )\n",
        "print( cosas[4] )\n",
        "print( cosas[5] )\n",
        "print( cosas[5][1] )\n",
        "print( cosas[3][1:3:] )\n",
        "cosas[3] = cosas[3].upper()\n",
        "print(cosas)"
      ],
      "execution_count": null,
      "outputs": [
        {
          "output_type": "stream",
          "name": "stdout",
          "text": [
            "[12, 2, True, 'José', 1.57, ['pera', 'kiwi', 'uva']]\n",
            "2\n",
            "1.57\n",
            "['pera', 'kiwi', 'uva']\n",
            "kiwi\n",
            "os\n",
            "[12, 2, True, 'JOSÉ', 1.57, ['pera', 'kiwi', 'uva']]\n"
          ]
        }
      ]
    },
    {
      "cell_type": "code",
      "metadata": {
        "colab": {
          "base_uri": "https://localhost:8080/"
        },
        "id": "7TcDZfaeL2Yh",
        "outputId": "3e95c73f-e6fe-474e-cd2c-bddd0a3fafe5"
      },
      "source": [
        "numeros = [1,2,3,4,5,6,7,8,9,10,11]\n",
        "print(numeros)\n",
        "# slicing\n",
        "# 1.- 4-8\n",
        "print(numeros[3:8])\n",
        "#2: [9,10]\n",
        "print (numeros[8:10])\n",
        "print (numeros[-3:-1:])\n",
        "#3:- imprimir la lista en orden inverso [11,10,9, etc., 1]\n",
        "print(numeros[::-1])"
      ],
      "execution_count": null,
      "outputs": [
        {
          "output_type": "stream",
          "name": "stdout",
          "text": [
            "[1, 2, 3, 4, 5, 6, 7, 8, 9, 10, 11]\n",
            "[4, 5, 6, 7, 8]\n",
            "[9, 10]\n",
            "[9, 10]\n",
            "[11, 10, 9, 8, 7, 6, 5, 4, 3, 2, 1]\n"
          ]
        }
      ]
    },
    {
      "cell_type": "code",
      "metadata": {
        "colab": {
          "base_uri": "https://localhost:8080/"
        },
        "id": "CltFRtyzPq1M",
        "outputId": "7232e25c-850d-4a5b-fd9d-a736d7c7fe88"
      },
      "source": [
        "#Crear una lista con un generador\n",
        "numeros = [ x*3 for x in range(101)]\n",
        "print(numeros)"
      ],
      "execution_count": null,
      "outputs": [
        {
          "output_type": "stream",
          "name": "stdout",
          "text": [
            "[0, 3, 6, 9, 12, 15, 18, 21, 24, 27, 30, 33, 36, 39, 42, 45, 48, 51, 54, 57, 60, 63, 66, 69, 72, 75, 78, 81, 84, 87, 90, 93, 96, 99, 102, 105, 108, 111, 114, 117, 120, 123, 126, 129, 132, 135, 138, 141, 144, 147, 150, 153, 156, 159, 162, 165, 168, 171, 174, 177, 180, 183, 186, 189, 192, 195, 198, 201, 204, 207, 210, 213, 216, 219, 222, 225, 228, 231, 234, 237, 240, 243, 246, 249, 252, 255, 258, 261, 264, 267, 270, 273, 276, 279, 282, 285, 288, 291, 294, 297, 300]\n"
          ]
        }
      ]
    },
    {
      "cell_type": "markdown",
      "metadata": {
        "id": "WTApMgWeQX1r"
      },
      "source": [
        "# función range ()\n",
        "\n",
        "tiene los mismos componenetes que slicing \n",
        "ini, stop, incremento\n",
        "\n",
        "rannge (1,101,1)"
      ]
    },
    {
      "cell_type": "code",
      "metadata": {
        "colab": {
          "base_uri": "https://localhost:8080/"
        },
        "id": "IzPxPsk8Qrtu",
        "outputId": "263a02ab-73ce-4f5a-9427-d4c8752e1c3b"
      },
      "source": [
        "numeros = [ x for x in range(50,101,)]\n",
        "print(numeros)\n",
        "\n",
        "numeros = [ x for x in range(50,101,2)]\n",
        "print(numeros)\n",
        "\n",
        "numeros = [ x for x in range(50,101, 5)]\n",
        "print(numeros)"
      ],
      "execution_count": null,
      "outputs": [
        {
          "output_type": "stream",
          "name": "stdout",
          "text": [
            "[50, 51, 52, 53, 54, 55, 56, 57, 58, 59, 60, 61, 62, 63, 64, 65, 66, 67, 68, 69, 70, 71, 72, 73, 74, 75, 76, 77, 78, 79, 80, 81, 82, 83, 84, 85, 86, 87, 88, 89, 90, 91, 92, 93, 94, 95, 96, 97, 98, 99, 100]\n",
            "[50, 52, 54, 56, 58, 60, 62, 64, 66, 68, 70, 72, 74, 76, 78, 80, 82, 84, 86, 88, 90, 92, 94, 96, 98, 100]\n",
            "[50, 55, 60, 65, 70, 75, 80, 85, 90, 95, 100]\n"
          ]
        }
      ]
    },
    {
      "cell_type": "markdown",
      "metadata": {
        "id": "NSQzpEKJRIG3"
      },
      "source": [
        "# Metodos disponibles de las listas"
      ]
    },
    {
      "cell_type": "code",
      "metadata": {
        "colab": {
          "base_uri": "https://localhost:8080/"
        },
        "id": "BY-0VyzVRNCW",
        "outputId": "4ec9941c-00eb-4f5f-9139-71ab250e6b5f"
      },
      "source": [
        "dir(list)"
      ],
      "execution_count": null,
      "outputs": [
        {
          "output_type": "execute_result",
          "data": {
            "text/plain": [
              "['__add__',\n",
              " '__class__',\n",
              " '__contains__',\n",
              " '__delattr__',\n",
              " '__delitem__',\n",
              " '__dir__',\n",
              " '__doc__',\n",
              " '__eq__',\n",
              " '__format__',\n",
              " '__ge__',\n",
              " '__getattribute__',\n",
              " '__getitem__',\n",
              " '__gt__',\n",
              " '__hash__',\n",
              " '__iadd__',\n",
              " '__imul__',\n",
              " '__init__',\n",
              " '__init_subclass__',\n",
              " '__iter__',\n",
              " '__le__',\n",
              " '__len__',\n",
              " '__lt__',\n",
              " '__mul__',\n",
              " '__ne__',\n",
              " '__new__',\n",
              " '__reduce__',\n",
              " '__reduce_ex__',\n",
              " '__repr__',\n",
              " '__reversed__',\n",
              " '__rmul__',\n",
              " '__setattr__',\n",
              " '__setitem__',\n",
              " '__sizeof__',\n",
              " '__str__',\n",
              " '__subclasshook__',\n",
              " 'append',\n",
              " 'clear',\n",
              " 'copy',\n",
              " 'count',\n",
              " 'extend',\n",
              " 'index',\n",
              " 'insert',\n",
              " 'pop',\n",
              " 'remove',\n",
              " 'reverse',\n",
              " 'sort']"
            ]
          },
          "metadata": {},
          "execution_count": 28
        }
      ]
    },
    {
      "cell_type": "code",
      "metadata": {
        "colab": {
          "base_uri": "https://localhost:8080/"
        },
        "id": "AapcbaMqSWGl",
        "outputId": "444a952d-1629-4dee-f9aa-96ead2d2feff"
      },
      "source": [
        "numeros=[ 4,1,15,8,22,34,50,15 ]\n",
        "print(numeros)\n",
        "\n",
        "numeros.append(99)\n",
        "print(numeros)\n",
        "\n",
        "#numeros.clear()\n",
        "#numeros=[]\n",
        "print(numeros)\n",
        "\n",
        "frutas = [\"uvas\", \"kiwi\", \"manzana\"]\n",
        "copia = frutas\n",
        "print(frutas)\n",
        "print(copia)\n",
        "frutas.append(\"naranja\")\n",
        "print (frutas)\n",
        "print(copia)\n",
        "\n",
        "colores = [\"rojo\", \"azul\",  \"blanco\"]\n",
        "copia2 = colores.copy()\n",
        "print(colores)\n",
        "print (copia2)\n",
        "colores.append(\"verde\")\n",
        "print(colores)\n",
        "print (copia2)\n",
        "\n",
        "print(\"numero de veces que aparece el 15=\", numeros.count(15))\n",
        "\n",
        "#extend\n",
        "\n",
        "nombres = [\"jose\" , \"pedro\", \"karina\"]\n",
        "otrosnombre=[\"josue\", \"diana\", \"dalia\"]\n",
        "print(nombres)\n",
        "print(otrosnombre)\n",
        "\n",
        "nombres= nombres + otrosnombre\n",
        "print(nombres)\n",
        "print(otrosnombre)\n",
        "\n",
        "#lo mismo con el metodo extend\n",
        "otrosnombre.extend( [\"Jesus\",\"Maria\", \"Jose\"] )\n",
        "print(\"Jesus esta en la posicion:\", otrosnombre.index(\"Jesus\"))\n",
        "\n",
        "otrosnombre.insert(4, \"Espiritu santo\")\n",
        "print(otrosnombre)\n",
        "\n",
        "#pop\n",
        "resultado = otrosnombre.pop()\n",
        "print(otrosnombre)\n",
        "print(resultado)"
      ],
      "execution_count": null,
      "outputs": [
        {
          "output_type": "stream",
          "name": "stdout",
          "text": [
            "[4, 1, 15, 8, 22, 34, 50, 15]\n",
            "[4, 1, 15, 8, 22, 34, 50, 15, 99]\n",
            "[4, 1, 15, 8, 22, 34, 50, 15, 99]\n",
            "['uvas', 'kiwi', 'manzana']\n",
            "['uvas', 'kiwi', 'manzana']\n",
            "['uvas', 'kiwi', 'manzana', 'naranja']\n",
            "['uvas', 'kiwi', 'manzana', 'naranja']\n",
            "['rojo', 'azul', 'blanco']\n",
            "['rojo', 'azul', 'blanco']\n",
            "['rojo', 'azul', 'blanco', 'verde']\n",
            "['rojo', 'azul', 'blanco']\n",
            "numero de veces que aparece el 15= 2\n",
            "['jose', 'pedro', 'karina']\n",
            "['josue', 'diana', 'dalia']\n",
            "['jose', 'pedro', 'karina', 'josue', 'diana', 'dalia']\n",
            "['josue', 'diana', 'dalia']\n",
            "Jesus esta en la posicion: 3\n",
            "['josue', 'diana', 'dalia', 'Jesus', 'Espiritu santo', 'Maria', 'Jose']\n",
            "['josue', 'diana', 'dalia', 'Jesus', 'Espiritu santo', 'Maria']\n",
            "Jose\n"
          ]
        }
      ]
    },
    {
      "cell_type": "markdown",
      "metadata": {
        "id": "Y91xQ2ehv6mk"
      },
      "source": [
        "# Tupla\n",
        "### Caracteristicas de las tuplas\n",
        "\n",
        "- Datos agrupados \n",
        "- Se declara usando#\n",
        "    - ( )\n",
        "    - tuple()\n",
        "-  Es una estructura secuencial, indexada a partir de 0.\n",
        "- Pueden tener de 0 a n elementos\n",
        "- NO SON MUTABLES (no se puede: eliminiar y/o cambiar) \n",
        "- Buenas para almacenar infromación de consulta.\n",
        "- Pueden almacenar info. de diferentes tipos de dato.\n",
        "- Pueden estar anidadas.\n",
        "- Tienen métodos útiles."
      ]
    },
    {
      "cell_type": "code",
      "metadata": {
        "colab": {
          "base_uri": "https://localhost:8080/"
        },
        "id": "NmGDKw7VwxFT",
        "outputId": "78408b20-5f13-4e29-f5da-586ed9f6cb46"
      },
      "source": [
        "info = (\"juan23\", \"dios1234\", \"123.232.1.12\")\n",
        "print( info )\n",
        "print ( info[ 1 ] )\n",
        "#info [1] = \"patito23\" no son mutables\n",
        "\n",
        "numeros = (0,1,2,3,4,5,6,7,8,9,10,11,12,13,14,15)\n",
        "print( numeros )\n",
        "print (numeros [5:11])\n",
        "\n",
        "cosas = ( info, numeros )\n",
        "print (cosas )\n",
        "print (cosas[1][5:11])\n",
        "print(cosas[0][2][4:7])  \n"
      ],
      "execution_count": null,
      "outputs": [
        {
          "output_type": "stream",
          "name": "stdout",
          "text": [
            "('juan23', 'dios1234', '123.232.1.12')\n",
            "dios1234\n",
            "(0, 1, 2, 3, 4, 5, 6, 7, 8, 9, 10, 11, 12, 13, 14, 15)\n",
            "(5, 6, 7, 8, 9, 10)\n",
            "(('juan23', 'dios1234', '123.232.1.12'), (0, 1, 2, 3, 4, 5, 6, 7, 8, 9, 10, 11, 12, 13, 14, 15))\n",
            "(5, 6, 7, 8, 9, 10)\n",
            "232\n"
          ]
        }
      ]
    },
    {
      "cell_type": "markdown",
      "metadata": {
        "id": "pmi2kELX0k9g"
      },
      "source": [
        "# Métodos de las tuplas \n",
        "Son los mismos en las listas pero los que no involucren mutabilidad. "
      ]
    },
    {
      "cell_type": "code",
      "metadata": {
        "colab": {
          "base_uri": "https://localhost:8080/"
        },
        "id": "RLHruP8p04VT",
        "outputId": "c92e76c9-3a66-411d-add1-a4c02ba563ca"
      },
      "source": [
        "dir(tuple)"
      ],
      "execution_count": null,
      "outputs": [
        {
          "output_type": "execute_result",
          "data": {
            "text/plain": [
              "['__add__',\n",
              " '__class__',\n",
              " '__contains__',\n",
              " '__delattr__',\n",
              " '__dir__',\n",
              " '__doc__',\n",
              " '__eq__',\n",
              " '__format__',\n",
              " '__ge__',\n",
              " '__getattribute__',\n",
              " '__getitem__',\n",
              " '__getnewargs__',\n",
              " '__gt__',\n",
              " '__hash__',\n",
              " '__init__',\n",
              " '__init_subclass__',\n",
              " '__iter__',\n",
              " '__le__',\n",
              " '__len__',\n",
              " '__lt__',\n",
              " '__mul__',\n",
              " '__ne__',\n",
              " '__new__',\n",
              " '__reduce__',\n",
              " '__reduce_ex__',\n",
              " '__repr__',\n",
              " '__rmul__',\n",
              " '__setattr__',\n",
              " '__sizeof__',\n",
              " '__str__',\n",
              " '__subclasshook__',\n",
              " 'count',\n",
              " 'index']"
            ]
          },
          "metadata": {},
          "execution_count": 14
        }
      ]
    },
    {
      "cell_type": "markdown",
      "metadata": {
        "id": "GX6A5ggR2wmg"
      },
      "source": [
        "# Diccionarios\n",
        "### Características de los diccionarios\n",
        "\n",
        "- Agrupan datos, pero de forma no líneal.\n",
        "-Se declaran con :\n",
        "    - { }\n",
        "    - dict()\n",
        "- Formado por pares de tipo llave:valor, donde: \n",
        "    - llave es de tipo string (siempre)\n",
        "    - Valor puede ser de cualquier tipo de datos, incluyendo los diccionarios.\n",
        "- Se seleccionan con la llave de la forma:[\"id_llave\"]\n",
        "- Son mutables\n",
        "- Son anidables\n",
        "- Son equivalentes al tipo de dato JSON del lenguaje JavaScript (JS)"
      ]
    },
    {
      "cell_type": "code",
      "metadata": {
        "colab": {
          "base_uri": "https://localhost:8080/"
        },
        "id": "8tt7oN_L2dmx",
        "outputId": "11ec1073-96d9-440a-918a-c9211163d77e"
      },
      "source": [
        "alumno = { \"nombre\" : \"José\"}\n",
        "print(alumno)\n",
        "print(alumno[\"nombre\"])\n",
        "alumno = {\"nombre\":\"José\", \"nc\":\"2129229292\", \"edad\":18}\n",
        "print(\"Edad del alumno =\", alumno[\"edad\"])\n",
        "print(alumno[\"nombre\"].upper())\n",
        "print(alumno)\n",
        "\n",
        "print(\"\\nAlumno2:\")\n",
        "alumno2= dict() #{ }\n",
        "alumno2[\"nombre\"] = \"jose\"\n",
        "print(alumno2)\n",
        "alumno2[\"nc\"] = \"2129229292\"\n",
        "alumno2[\"edad\"]= 18\n",
        "print(alumno2)\n",
        "\n",
        "alumno2[\"edad\"] = alumno2 [\"edad\"] + 1\n",
        "print(alumno2)\n"
      ],
      "execution_count": null,
      "outputs": [
        {
          "output_type": "stream",
          "name": "stdout",
          "text": [
            "{'nombre': 'José'}\n",
            "José\n",
            "Edad del alumno = 18\n",
            "JOSÉ\n",
            "{'nombre': 'José', 'nc': '2129229292', 'edad': 18}\n",
            "\n",
            "Alumno2:\n",
            "{'nombre': 'jose'}\n",
            "{'nombre': 'jose', 'nc': '2129229292', 'edad': 18}\n",
            "{'nombre': 'jose', 'nc': '2129229292', 'edad': 19}\n"
          ]
        }
      ]
    },
    {
      "cell_type": "code",
      "metadata": {
        "colab": {
          "base_uri": "https://localhost:8080/"
        },
        "id": "zf0rRlI-8N0F",
        "outputId": "be269e05-9e3b-4349-e5af-cfcbc710b78e"
      },
      "source": [
        "cliente = { \"id\":\"CT2121\", \n",
        "           \"nombre\" : \"José Pedroza Rosales\",\n",
        "           \"telefonos\":\"casa=55445656 cel=044534958\"}\n",
        "\n",
        "print(cliente)\n",
        "\n",
        "cliente = { \"id\":\"CT2121\", \n",
        "           \"nombre\" : {\n",
        "               \"nombre\":[\"José\", \"Eduardo\"],\n",
        "               \"paterno\": \"Predoza\" ,\n",
        "               \"materno\":\"Rosales\"\n",
        "                } ,\n",
        "           \"telefonos\":{\n",
        "               \"casa\": \"552863292\",\n",
        "               \"trabajo\": \"5576385203\",\n",
        "               \"celular\": \"04455230222\"\n",
        "           } , \n",
        "           \"productos\": {\n",
        "               \"ahorro\": {\"numero_cuenta\":\"778\", \"ahorro\": 2500.5},\n",
        "               \"tarjetas\": [\n",
        "                             {\"tipo\":\"debito\", \"saldo\":10000.5},\n",
        "                             {\"tipo\":\"credito preferente\",\"limite\":250000.5},\n",
        "                             {\"tipo\": \"lite\", \"limite\":15000.5}\n",
        "               ]\n",
        "              \n",
        "           },\n",
        "           \"direccion\":{\n",
        "               \"calle\": \"Av. central\",\n",
        "               \"numero\": 1245,\n",
        "               \"colonia\": \"Impulsora\",\n",
        "               \"delegacion\": \"neza\",\n",
        "               \"estado\":{\n",
        "                   \"clave\": 15,\n",
        "                   \"nombre_corto\":\"EdoMex\",\n",
        "                   \"nombre\": \"Estado de México\"\n",
        "               }\n",
        "           }  \n",
        "           }          \n",
        "print( cliente[\"telefonos\"][\"casa\"])\n",
        "print(cliente)\n",
        "print(cliente[\"productos\"][\"ahorro\"][\"ahorro\"])\n",
        "print(cliente[\"productos\"][\"tarjetas\"][2][\"limite\"])\n",
        "print(cliente[\"direccion\"][\"estado\"][\"nombre\"].upper())\n",
        "cliente[\"productos\"][\"ahorro\"][\"ahorro\"] -= 1500.0\n",
        "print(cliente[\"productos\"])\n"
      ],
      "execution_count": null,
      "outputs": [
        {
          "output_type": "stream",
          "name": "stdout",
          "text": [
            "{'id': 'CT2121', 'nombre': 'José Pedroza Rosales', 'telefonos': 'casa=55445656 cel=044534958'}\n",
            "552863292\n",
            "{'id': 'CT2121', 'nombre': {'nombre': ['José', 'Eduardo'], 'paterno': 'Predoza', 'materno': 'Rosales'}, 'telefonos': {'casa': '552863292', 'trabajo': '5576385203', 'celular': '04455230222'}, 'productos': {'ahorro': {'numero_cuenta': '778', 'ahorro': 2500.5}, 'tarjetas': [{'tipo': 'debito', 'saldo': 10000.5}, {'tipo': 'credito preferente', 'limite': 250000.5}, {'tipo': 'lite', 'limite': 15000.5}]}, 'direccion': {'calle': 'Av. central', 'numero': 1245, 'colonia': 'Impulsora', 'delegacion': 'neza', 'estado': {'clave': 15, 'nombre_corto': 'EdoMex', 'nombre': 'Estado de México'}}}\n",
            "2500.5\n",
            "15000.5\n",
            "ESTADO DE MÉXICO\n",
            "{'ahorro': {'numero_cuenta': '778', 'ahorro': 1000.5}, 'tarjetas': [{'tipo': 'debito', 'saldo': 10000.5}, {'tipo': 'credito preferente', 'limite': 250000.5}, {'tipo': 'lite', 'limite': 15000.5}]}\n"
          ]
        }
      ]
    },
    {
      "cell_type": "markdown",
      "metadata": {
        "id": "wFkcErmWMjHb"
      },
      "source": [
        "# Estructuras de control de programación\n",
        "\n",
        "Se puede crear cualquier tipo de algoritmo empleando solamente 3 estructuras de control:\n",
        "1. Secuencia:\n",
        "    - La representación de la memoria de programa (Arquitectura Vonn Newman)\n",
        "    \n",
        "2. Selección: \n",
        "    - Es la estructura de control que decide si un bloque de programa se ejecuta o no se ejecuta. Tambien permite seleccionar ejecutar un bloque entre un conjunto de opcciones.\n",
        "    En resumen tenemos: Seleccion simple, selección bifurcación y selección múltiple.\n",
        "3. Repetición: \n",
        "    - Este tipo de estructura nos permite automatizar la ejecución repetitiva de código mientras ciertas condiciones se cumplan, tenemos 3 variantes de esta estructura en todos los lenguajes de programación:\n",
        "    - Desde.....hasta(estructura for)\n",
        "    - Haz mientras (estructura while)\n",
        "    - Haz y luego validaz mientras(estructura Do-While)"
      ]
    },
    {
      "cell_type": "markdown",
      "metadata": {
        "id": "ud99Ld1GSDDS"
      },
      "source": [
        "# seleccion simple\n",
        "--- Documentar, o poner notas\n",
        "\n",
        "La estrutura if\n",
        "\n",
        "```\n",
        "if <CONDICION> : \n",
        "    <Cuerpo del if>\n",
        "```\n",
        "***NOTA*** Para estrablecer el cuerpo de una estructura de control en Python se usan los tabuladores a la izq. \n",
        "En otros lenguajes de programación como java, c y c++... se usan las llaves { }\n",
        "\n",
        "```\n",
        "int edad =0;\n",
        "print (\"Dame tu edad\";\n",
        "scanf(\"%i\", &edad );\n",
        "if(edad >= 18){\n",
        "       printf(\"ERES MAYOR DE EDAD\");\n",
        "}\n",
        "printf(\"fin de programa\");\n",
        "```"
      ]
    },
    {
      "cell_type": "code",
      "metadata": {
        "colab": {
          "base_uri": "https://localhost:8080/"
        },
        "id": "GlrdYvlMSBQs",
        "outputId": "0d950c79-dab9-4165-ae9e-a323c3001e7e"
      },
      "source": [
        "edad= int( input(\"Dame tu edad:\"))\n",
        "print(f\"Tecleaste {edad} años\")\n",
        "if edad >= 18 :\n",
        "   print (\"ERES MAYOR DE EDAD\")\n",
        "   print(\"Algo\")\n",
        "   print( \"Otra cosa\")\n",
        "print(\"Fin de programa\")\n"
      ],
      "execution_count": null,
      "outputs": [
        {
          "output_type": "stream",
          "name": "stdout",
          "text": [
            "Dame tu edad:18\n",
            "Tecleaste 18 años\n",
            "ERES MAYOR DE EDAD\n",
            "Fin de programa\n"
          ]
        }
      ]
    },
    {
      "cell_type": "code",
      "metadata": {
        "colab": {
          "base_uri": "https://localhost:8080/"
        },
        "id": "GEkV7wt1PjOA",
        "outputId": "b375bb19-eb95-4e12-ed64-e593dd165e0a"
      },
      "source": [
        "CAL = int(input(\"Dame tu calificación: \"))\n",
        "if CAL > 8 :\n",
        "    print(\"Aprobado\")\n",
        "print(\"Fin del programa\")\n",
        "\n"
      ],
      "execution_count": null,
      "outputs": [
        {
          "output_type": "stream",
          "name": "stdout",
          "text": [
            "Dame tu calificación: 9\n",
            "Aprobado\n",
            "Fin del programa\n"
          ]
        }
      ]
    },
    {
      "cell_type": "code",
      "metadata": {
        "colab": {
          "base_uri": "https://localhost:8080/"
        },
        "id": "Rw-WPi4IYt3o",
        "outputId": "631cc756-3f82-4c01-8199-74e204c65393"
      },
      "source": [
        "CAL = float(input(\"Dame tu calificación: \"))\n",
        "if CAL > 8 :\n",
        "    print(\"Aprobado\")\n",
        "print(\"Fin del programa\")\n"
      ],
      "execution_count": null,
      "outputs": [
        {
          "output_type": "stream",
          "name": "stdout",
          "text": [
            "Dame tu calificación: 7.99\n",
            "Fin del programa\n"
          ]
        }
      ]
    },
    {
      "cell_type": "code",
      "metadata": {
        "colab": {
          "base_uri": "https://localhost:8080/"
        },
        "id": "L14nfOskYixg",
        "outputId": "bd4b6cfe-21c3-434c-8a76-3ca07b3f844f"
      },
      "source": [
        "SUE = float(input(\"Dame tu sueldo: \"))\n",
        "AUM=0\n",
        "NSUE=0\n",
        "\n",
        "if SUE < 1000:\n",
        "    AUM = SUE* 0.15\n",
        "    NSUE = SUE + AUM\n",
        "    print(NSUE)"
      ],
      "execution_count": null,
      "outputs": [
        {
          "output_type": "stream",
          "name": "stdout",
          "text": [
            "Dame tu sueldo: 875.50\n",
            "1006.825\n"
          ]
        }
      ]
    },
    {
      "cell_type": "markdown",
      "metadata": {
        "id": "-NXGQx7mGi1y"
      },
      "source": [
        "# Estructura de selección con bifurcación (if-else)\n",
        "\n",
        "esta estructura, selecciona una de dos opciones de ejecución, se ejecuta un bloque si la condición se cumple o se ejecuta otro bloquen si la condición no se cimple (else)\n",
        "\n",
        "```\n",
        "if<condicion> :\n",
        "    <bloque de ejecución>\n",
        "else:\n",
        "    <bloque de ejecución alterno>\n",
        "````\n"
      ]
    },
    {
      "cell_type": "code",
      "metadata": {
        "colab": {
          "base_uri": "https://localhost:8080/"
        },
        "id": "nbwRkTTdHfRs",
        "outputId": "a131e98f-c0e6-440b-a7d4-fb5f2f99182f"
      },
      "source": [
        "edad = int(input(\"Dame tu edad: \"))\n",
        "print(f\"Tecleaste {edad} años \")\n",
        "if edad >= 18:\n",
        "    print(\"Eres mayor de edad, ten tu cheve\")\n",
        "else:\n",
        "    print(\"Eres menor de edad, ten tu Boing de mango\")\n",
        "\n",
        "print(\"Fin del programa\")\n",
        "    "
      ],
      "execution_count": null,
      "outputs": [
        {
          "output_type": "stream",
          "name": "stdout",
          "text": [
            "Dame tu edad: 15\n",
            "Tecleaste 15 años \n",
            "Eres menor de edad, ten tu Boing de mango\n",
            "Fin del programa\n"
          ]
        }
      ]
    },
    {
      "cell_type": "code",
      "metadata": {
        "colab": {
          "base_uri": "https://localhost:8080/"
        },
        "id": "Z4_JchjdJK2x",
        "outputId": "6f939db2-acec-4741-95f5-6b1c13e500cd"
      },
      "source": [
        "edad = int(input(\"Dame tu edad: \"))\n",
        "dinero= float(input(\"¿Cuánto dinero tienes:\"))\n",
        "print(f\"Tecleaste {edad} años \")\n",
        "print(f\"Tecleaste {edad} pesos \")\n",
        "if edad >= 18 and dinero >=36:\n",
        "    print(\"Eres mayor de edad, ten tu cheve\")\n",
        "else:\n",
        "    print(\"Eres menor de edad, ten tu Boing de mango\")\n",
        "\n",
        "print(\"Fin del programa\")\n"
      ],
      "execution_count": null,
      "outputs": [
        {
          "output_type": "stream",
          "name": "stdout",
          "text": [
            "Dame tu edad: 18\n",
            "¿Cuánto dinero tienes:60\n",
            "Tecleaste 18 años \n",
            "Tecleaste 18 pesos \n",
            "Eres mayor de edad, ten tu cheve\n",
            "Fin del programa\n"
          ]
        }
      ]
    },
    {
      "cell_type": "code",
      "metadata": {
        "colab": {
          "base_uri": "https://localhost:8080/"
        },
        "id": "xXIdDHiWKW98",
        "outputId": "19952b40-c5ca-4d0e-fbfb-28f58fa42774"
      },
      "source": [
        "edad = int(input(\"Dame tu edad: \"))\n",
        "dinero= float(input(\"¿Cuánto dinero tienes:\"))\n",
        "print(f\"Tecleaste {edad} años \")\n",
        "print(f\"Tecleaste {edad} pesos \")\n",
        "if edad >= 18:\n",
        "    if dinero >=35:\n",
        "        print(\"Eres mayor de edad y tienes dinero, ten tu cheve\")\n",
        "    else:\n",
        "        print(\"No tienes suficiente dinero\")\n",
        "else:\n",
        "    print(\"Eres menor de edad, ten tu Boing de mango\")\n",
        "\n",
        "print(\"Fin del programa\")\n"
      ],
      "execution_count": null,
      "outputs": [
        {
          "output_type": "stream",
          "name": "stdout",
          "text": [
            "Dame tu edad: 18\n",
            "¿Cuánto dinero tienes:39\n",
            "Tecleaste 18 años \n",
            "Tecleaste 18 pesos \n",
            "Eres mayor de edad y tienes dinero, ten tu cheve\n",
            "Fin del programa\n"
          ]
        }
      ]
    },
    {
      "cell_type": "code",
      "metadata": {
        "colab": {
          "base_uri": "https://localhost:8080/"
        },
        "id": "tUJEetnyMPMW",
        "outputId": "77460601-117a-4107-d438-d7ce3bad9695"
      },
      "source": [
        "edad = int(input(\"Dame tu edad: \"))\n",
        "dinero= float(input(\"¿Cuánto dinero tienes:\"))\n",
        "print(f\"Tecleaste {edad} años \")\n",
        "print(f\"Tecleaste {edad} pesos \")\n",
        "if edad >= 18:\n",
        "    if dinero >=35:\n",
        "        print(\"Eres mayor de edad y tienes dinero, ten tu cheve\")\n",
        "    else:\n",
        "        print(\"No tienes suficiente dinero\")\n",
        "else:\n",
        "    if dinero >=36:\n",
        "        print(\"Tienes dinero suficiente pero no tienes la edad\")\n",
        "    else:\n",
        "        print(\"No tienes la edad ni el dinero, ve a jugar roblox a tu casa\")\n",
        "\n",
        "print(\"Fin del programa\")"
      ],
      "execution_count": null,
      "outputs": [
        {
          "output_type": "stream",
          "name": "stdout",
          "text": [
            "Dame tu edad: 18\n",
            "¿Cuánto dinero tienes:23\n",
            "Tecleaste 18 años \n",
            "Tecleaste 18 pesos \n",
            "No tienes suficiente dinero\n",
            "Fin del programa\n"
          ]
        }
      ]
    },
    {
      "cell_type": "markdown",
      "metadata": {
        "id": "1tHp2ZzdMrly"
      },
      "source": [
        "El código anterior se puede simplificar usando una palabra resservada especial que existe en algunos lenguajes de programación:\n",
        "\n",
        "# Elif"
      ]
    },
    {
      "cell_type": "code",
      "metadata": {
        "colab": {
          "base_uri": "https://localhost:8080/"
        },
        "id": "J0-9CMbXNAfB",
        "outputId": "8904a483-d906-4438-f8ae-d7b0238f59fd"
      },
      "source": [
        "edad = int(input(\"Dame tu edad: \"))\n",
        "dinero= float(input(\"¿Cuánto dinero tienes:\"))\n",
        "print(f\"Tecleaste {edad} años \")\n",
        "print(f\"Tecleaste {dinero} pesos \")\n",
        "if edad >= 18:\n",
        "    if dinero >=35:\n",
        "        print(\"Eres mayor de edad y tienes dinero, ten tu cheve\")\n",
        "    else:\n",
        "        print(\"No tienes suficiente dinero\")\n",
        "elif dinero >= 36:\n",
        "        print(\"Tienes dinero suficiente pero no tienes la edad\")\n",
        "else:\n",
        "    print(\"No tienes la edad ni el dinero, ve a jugar roblox a tu casa\")\n",
        "\n",
        "print(\"Fin del programa\")"
      ],
      "execution_count": null,
      "outputs": [
        {
          "output_type": "stream",
          "name": "stdout",
          "text": [
            "Dame tu edad: 13\n",
            "¿Cuánto dinero tienes:23\n",
            "Tecleaste 13 años \n",
            "Tecleaste 23.0 pesos \n",
            "No tienes la edad ni el dinero, ve a jugar roblox a tu casa\n",
            "Fin del programa\n"
          ]
        }
      ]
    },
    {
      "cell_type": "code",
      "metadata": {
        "colab": {
          "base_uri": "https://localhost:8080/"
        },
        "id": "MCFyJecEOnFr",
        "outputId": "a0f6f799-3cb1-4c9a-e203-6debfbc107c7"
      },
      "source": [
        "CAL = float(input(\"Dame tu calificación: \"))\n",
        "if CAL > 8 :\n",
        "    print(\"Aprobado\")\n",
        "else:\n",
        "    print(\"Reprobado\")\n",
        "\n",
        "print(\"\\nFin del programa\")"
      ],
      "execution_count": null,
      "outputs": [
        {
          "output_type": "stream",
          "name": "stdout",
          "text": [
            "Dame tu calificación: 4\n",
            "Reprobado\n",
            "\n",
            "Fin del programa\n"
          ]
        }
      ]
    },
    {
      "cell_type": "code",
      "metadata": {
        "colab": {
          "base_uri": "https://localhost:8080/"
        },
        "id": "PhM5Z7cFPEvw",
        "outputId": "64b72731-65a7-4a9e-cb05-aab3fd33685f"
      },
      "source": [
        "#Ejemplo 2.4\n",
        "SUE = float(input(\"Escribe el sueldo: \"))\n",
        "AUM = 0 \n",
        "NSUE = 0\n",
        "\n",
        "if SUE < 1000 :\n",
        "    AUM = SUE * 0.15\n",
        "    NSUE = SUE + AUM\n",
        "\n",
        "else:\n",
        "    AUM= SUE*0.12\n",
        "    NSUE = SUE + AUM\n",
        "\n",
        "print(NSUE)"
      ],
      "execution_count": null,
      "outputs": [
        {
          "output_type": "stream",
          "name": "stdout",
          "text": [
            "Escribe el sueldo: 1000\n",
            "1120.0\n"
          ]
        }
      ]
    },
    {
      "cell_type": "code",
      "metadata": {
        "colab": {
          "base_uri": "https://localhost:8080/"
        },
        "id": "uZU6Pd-qRUbK",
        "outputId": "446f745d-3442-4c20-ac01-6335ddd20546"
      },
      "source": [
        "# problema 2.4\n",
        "SUE=float(input(\"Dame tu sueldo: \"))\n",
        "if SUE<1000:\n",
        "    NSUE=SUE*1.15\n",
        "else:\n",
        "    NSUE=SUE*1.12\n",
        "print(f\"Tu nuevo sueldo es: {NSUE}\")"
      ],
      "execution_count": null,
      "outputs": [
        {
          "output_type": "stream",
          "name": "stdout",
          "text": [
            "Dame tu sueldo: 900\n",
            "Tu nuevo sueldo es: 1035.0\n"
          ]
        }
      ]
    },
    {
      "cell_type": "markdown",
      "metadata": {
        "id": "AWvi6PJDSEmG"
      },
      "source": [
        "# Ejercicio if-else\n",
        "\n",
        "### Hacer un programa que solicite el día de la semana en un valor numerico entero del 1 al 7 (Avisarle al usuario si proporciono un valor fuera del rango).\n",
        "\n",
        "### Posteriormente imprimira el dia de la semana correspondiente al numero capturado\n",
        "\n",
        "1. lunes\n",
        "2. martes\n",
        "...\n",
        "\n",
        "7. domingo\n"
      ]
    },
    {
      "cell_type": "code",
      "metadata": {
        "colab": {
          "base_uri": "https://localhost:8080/"
        },
        "id": "cot3GzumTc0E",
        "outputId": "5f3fed17-3469-4fbd-9064-052a85cd2625"
      },
      "source": [
        "dia=int(input(\"Dame el día de la semana del 1-7: \"))\n",
        "if dia == 1:\n",
        "    print(\"LUNES\")\n",
        "elif dia == 2:\n",
        "    print(\"MARTES\")\n",
        "elif dia == 3:\n",
        "    print(\"MIERCOLES\")\n",
        "elif dia == 4:\n",
        "    print(\"JUEVES\")\n",
        "elif dia == 5:\n",
        "    print(\"VIERNES\")\n",
        "elif dia == 6:\n",
        "    print(\"SÁBADO\")\n",
        "elif dia == 7:\n",
        "    print(\"DOMINGO\")\n",
        "else:\n",
        "    print(\"Debe ser un numero entre el 1 y el 7, ingresa nuevamente\")"
      ],
      "execution_count": null,
      "outputs": [
        {
          "output_type": "stream",
          "name": "stdout",
          "text": [
            "Dame el día de la semana del 1-7: 10\n",
            "Debe ser un numero entre el 1 el 7, ingresa nuevamente\n"
          ]
        }
      ]
    },
    {
      "cell_type": "code",
      "metadata": {
        "colab": {
          "base_uri": "https://localhost:8080/"
        },
        "id": "ypCTaeZFUNTE",
        "outputId": "d40c38b0-c959-4b70-a3bd-57d08bc898be"
      },
      "source": [
        "dia= int( input( \"Ingresa un numero entre el 1 y 7:\"))\n",
        "print(f\"Capturaste el numero {dia}\")\n",
        "\n",
        "if dia >=1 and dia <= 7:\n",
        "    if dia == 1:\n",
        "        print(\"Lunes\")\n",
        "    else:\n",
        "        if dia == 2: \n",
        "            print(\"Martes\")\n",
        "        else:\n",
        "            if dia == 3:\n",
        "                print(\"Miercoles\")\n",
        "            else:\n",
        "                if dia == 4:\n",
        "                    print(\"Jueves\")\n",
        "                else:\n",
        "                    if dia == 5:\n",
        "                        print (\"viernes\")\n",
        "                    else: \n",
        "                        if dia == 6:\n",
        "                            print(\"Sabado\")\n",
        "                        else:\n",
        "                            print(\"Domingo\")\n",
        "                \n",
        "        \n",
        "else:\n",
        "    print(\"Ese número no esta dentro del rango solicitado\")"
      ],
      "execution_count": null,
      "outputs": [
        {
          "output_type": "stream",
          "name": "stdout",
          "text": [
            "Ingresa un numero entre el 1 y 7:7\n",
            "Capturaste el numero 7\n",
            "Domingo\n"
          ]
        }
      ]
    },
    {
      "cell_type": "markdown",
      "metadata": {
        "id": "Jd9JPPopZ4gd"
      },
      "source": [
        "#Hacer un programa que pida dos números enteros y que imprima en pantalla lo siguiente\n",
        "\n",
        "1. cual de ellos es el numero mayor\n",
        "2. cual de ellos es el numero menor\n",
        " \n",
        " o en su defecto\n",
        "imprimir que los valores son iguales\n",
        "\n",
        "# Hacer un programa que solicite 3 numeros enteros diferentes entre sí y que imprima cual de los 3 es el mayor \n",
        "\n",
        "#Hacer un programa que solicite 3 numeros enteros diferentes entre sí y que imprima cual de los 3 es el menor\n",
        "\n",
        "\n",
        "#Hacer un programa que solicite 4 numeros enteros diferentes entre si e imprima a la salida cual de elos es el menor y cual de ellos es el mayor "
      ]
    },
    {
      "cell_type": "markdown",
      "metadata": {
        "id": "oess1OTka7_Y"
      },
      "source": [
        "# Selección múltiple (switch)\n",
        "En python no existe la estructura de la selección switch, en su lugar se emplea la plabra reservada:\n",
        "\n",
        "### elif <condición>:\n",
        "\n",
        "por ejemplo en el lenguaje C y Java seria de la forma:\n",
        "\n",
        "```\n",
        "\n",
        "\n"
      ]
    },
    {
      "cell_type": "code",
      "metadata": {
        "id": "-9nLHEQBb7CU"
      },
      "source": [
        "# ejemplo 2.7\n",
        " \n",
        "NUM = int(input(\"dame un numero entre 1 y 3:\"))\n",
        "V = float(input(\"Dame un valor float:\"))\n",
        "VAL = 0\n",
        "if NUM == 1:\n",
        "    VAL = 100 * V\n",
        "elif NUM == 2:\n",
        "    VAL = 100 ** V\n",
        "elif NUM == 3 :\n",
        "    VAL =100/V\n",
        "else:\n",
        "    VAL = 0\n",
        " \n",
        "print(VAL)"
      ],
      "execution_count": null,
      "outputs": []
    }
  ]
}