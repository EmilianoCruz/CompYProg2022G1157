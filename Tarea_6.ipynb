{
  "nbformat": 4,
  "nbformat_minor": 0,
  "metadata": {
    "colab": {
      "name": "Tarea 6.ipynb",
      "provenance": [],
      "collapsed_sections": [],
      "authorship_tag": "ABX9TyNjsZqD+yGNt/mJAL3phBoF",
      "include_colab_link": true
    },
    "kernelspec": {
      "name": "python3",
      "display_name": "Python 3"
    },
    "language_info": {
      "name": "python"
    }
  },
  "cells": [
    {
      "cell_type": "markdown",
      "metadata": {
        "id": "view-in-github",
        "colab_type": "text"
      },
      "source": [
        "<a href=\"https://colab.research.google.com/github/EmilianoCruz/CompYProg2022G1157/blob/main/Tarea_6.ipynb\" target=\"_parent\"><img src=\"https://colab.research.google.com/assets/colab-badge.svg\" alt=\"Open In Colab\"/></a>"
      ]
    },
    {
      "cell_type": "code",
      "metadata": {
        "id": "jrWLW6a_iNrK",
        "colab": {
          "base_uri": "https://localhost:8080/"
        },
        "outputId": "166ec0e6-8d05-47ba-f9e9-870084541705"
      },
      "source": [
        "#Problema 2.1\n",
        "N=int(input(\"Número de sonidos emitidos por minuto: \"))\n",
        "print(\"Capturaste el número:\",N)\n",
        "if N>0:\n",
        "    T=N/4+40\n",
        "    print(\"\\nLa Temperatura es:\",T)\n",
        "print(\"\\nFin del programa\")"
      ],
      "execution_count": 19,
      "outputs": [
        {
          "output_type": "stream",
          "name": "stdout",
          "text": [
            "Número de sonidos emitidos por minuto: 8\n",
            "Capturaste el número: 8\n",
            "\n",
            "La Temperatura es: 42.0\n",
            "\n",
            "Fin del programa\n"
          ]
        }
      ]
    },
    {
      "cell_type": "code",
      "metadata": {
        "colab": {
          "base_uri": "https://localhost:8080/"
        },
        "id": "xanZRXoGt_R4",
        "outputId": "eb650284-dec0-4fd2-9ec6-c01ac853ce16"
      },
      "source": [
        "#Problema 2.2\n",
        "P=int(input(\"Ingresa un número entero: \"))\n",
        "Q=int(input(\"Ingresa un número entero: \"))\n",
        "print(f\"\\nCapturaste el número: {P}\")\n",
        "print(f\"Capturaste el número: {Q}\")\n",
        "\n",
        "EXP=P**3+Q**4-2*P**2\n",
        "if EXP<680:\n",
        "    print(P, Q)\n",
        "\n",
        "print(\"Fin del programa\")"
      ],
      "execution_count": null,
      "outputs": [
        {
          "output_type": "stream",
          "name": "stdout",
          "text": [
            "Ingresa un número entero: 2\n",
            "Ingresa un número entero: 4\n",
            "\n",
            "Capturaste el número: 2\n",
            "Capturaste el número: 4\n",
            "2 4\n",
            "Fin del programa\n"
          ]
        }
      ]
    },
    {
      "cell_type": "code",
      "metadata": {
        "colab": {
          "base_uri": "https://localhost:8080/"
        },
        "id": "tU8Uc1hDuHfC",
        "outputId": "13c53ca6-2b56-4e92-80d7-ebb1905466d4"
      },
      "source": [
        "#Problema 2.3\n",
        "A=float(input(\"Ingresa un dígito distinto de 0:\"))\n",
        "B=float(input(\"Ingresa un dígito:\"))\n",
        "C=float(input(\"Ingresa un dígito:\"))\n",
        "print(f\"\\nCapturaste el número: {A}\")\n",
        "print(f\"Capturaste el número: {B}\")\n",
        "print(f\"Capturaste el número: {C}\")\n",
        "if A==0:\n",
        "    print(\"Ingresa un número diferente a 0\")\n",
        "else:\n",
        "    DIS = (B**2) - (4*A*C)\n",
        "    if DIS>=0:\n",
        "        X1=(((-B)+ DIS**0.5)/(2*A))\n",
        "        X2=(((-B)- DIS**0.5)/(2*A))\n",
        "        print(f\"\\nRaíces reales: x1={X1}, x2={X2}\")\n",
        "\n",
        "    print(\"\\nFin del programa\")"
      ],
      "execution_count": 18,
      "outputs": [
        {
          "output_type": "stream",
          "name": "stdout",
          "text": [
            "Ingresa un dígito distinto de 0:2.5\n",
            "Ingresa un dígito:-6\n",
            "Ingresa un dígito:-4\n",
            "\n",
            "Capturaste el número: 2.5\n",
            "Capturaste el número: -6.0\n",
            "Capturaste el número: -4.0\n",
            "\n",
            "Raíces reales: x1=2.9435595774162695, x2=-0.5435595774162696\n",
            "\n",
            "Fin del programa\n"
          ]
        }
      ]
    },
    {
      "cell_type": "code",
      "metadata": {
        "colab": {
          "base_uri": "https://localhost:8080/"
        },
        "id": "T0DZVYro9G2k",
        "outputId": "3371210a-b7bb-4506-fcda-91cb841f30fa"
      },
      "source": [
        "#Problemas 2.4\n",
        "MAT=int(input(\"Ingresa tu matrícula: \"))\n",
        "CAL1=float(input(\"Ingresa tu primer calificación: \"))\n",
        "CAL2=float(input(\"Ingresa tu segunda calificación: \"))\n",
        "CAL3=float(input(\"Ingresa tu tercera calificación: \"))\n",
        "CAL4=float(input(\"Ingresa tu cuarta calificación: \"))\n",
        "CAL5=float(input(\"Ingresa tu quinta calificación: \"))\n",
        "\n",
        "print(f\"\\nCapturaste como primera calificación: {CAL1}\")\n",
        "print(f\"Capturaste como segunda calificación: {CAL2}\")\n",
        "print(f\"Capturaste como tercera calificación: {CAL3}\")\n",
        "print(f\"Capturaste como cuarta calificación: {CAL4}\")\n",
        "print(f\"Capturaste como quinta calificación: {CAL5}\")\n",
        "\n",
        "PRO=(CAL1+CAL2+CAL3+CAL4+CAL5)/5\n",
        "\n",
        "if PRO>=6:\n",
        "    print(f\"\\nMatrícula: {MAT} \\n Tu promedio es: {PRO} \\n Estás APROBADO\")\n",
        "else:\n",
        "    print(f\"\\nMatrícula: {MAT} \\n Tu promedio es: {PRO} \\n NO APROBADO\")\n",
        "\n",
        "print(\"\\nFIN\")"
      ],
      "execution_count": null,
      "outputs": [
        {
          "output_type": "stream",
          "name": "stdout",
          "text": [
            "Ingresa tu matrícula: 320175415\n",
            "Ingresa tu primer calificación: 8.5\n",
            "Ingresa tu segunda calificación: 9.7\n",
            "Ingresa tu tercera calificación: 9.1\n",
            "Ingresa tu cuarta calificación: 10\n",
            "Ingresa tu quinta calificación: 10\n",
            "\n",
            "Capturaste como primera calificación: 8.5\n",
            "Capturaste como segunda calificación: 9.7\n",
            "Capturaste como tercera calificación: 9.1\n",
            "Capturaste como cuarta calificación: 10.0\n",
            "Capturaste como quinta calificación: 10.0\n",
            "\n",
            "Matrícula: 320175415 \n",
            " Tu promedio es: 9.459999999999999 \n",
            " Estás APROBADO\n",
            "\n",
            "FIN\n"
          ]
        }
      ]
    },
    {
      "cell_type": "code",
      "metadata": {
        "colab": {
          "base_uri": "https://localhost:8080/"
        },
        "id": "OQdfVosM-WdK",
        "outputId": "e128b13e-9126-40c3-853f-95dc9438b7a2"
      },
      "source": [
        "#Problema2.5\n",
        "NUM=int(input(\"Ingresa un número entero: \"))\n",
        "print(f\"Capturaste el número: {NUM}\")\n",
        "\n",
        "if NUM>0:\n",
        "    print(\"\\nNúmero POSITIVO\")\n",
        "elif NUM==0:\n",
        "        print(\"\\nNúmero NULO\")\n",
        "else:\n",
        "    print(\"\\nNúmero NEGATIVO\")\n",
        "\n",
        "print(\"\\nFIN\")"
      ],
      "execution_count": null,
      "outputs": [
        {
          "output_type": "stream",
          "name": "stdout",
          "text": [
            "Ingresa un número entero: -3\n",
            "Capturaste el número: -3\n",
            "\n",
            "Número NEGATIVO\n",
            "\n",
            "FIN\n"
          ]
        }
      ]
    },
    {
      "cell_type": "code",
      "metadata": {
        "id": "-GsDTY8kBUSH",
        "colab": {
          "base_uri": "https://localhost:8080/"
        },
        "outputId": "98a0c75b-e0b5-47ce-8a34-3fcc3aab6bc5"
      },
      "source": [
        "#Problema 2.6\n",
        "A= (int(input(\"Ingrese un número entero: \")))\n",
        "print(f\"Capturaste el número: {A}\")\n",
        "if A==0:\n",
        "    print(\"NULO\")\n",
        "else:\n",
        "    if -1**A>0:\n",
        "        print(\"PAR\")\n",
        "    else: \n",
        "        print(\"IMPAR\")\n",
        "print(\"\\nFIN\")"
      ],
      "execution_count": null,
      "outputs": [
        {
          "output_type": "stream",
          "name": "stdout",
          "text": [
            "Ingrese un número entero: 25\n",
            "Capturaste el número: 25\n",
            "IMPAR\n",
            "\n",
            "FIN\n"
          ]
        }
      ]
    },
    {
      "cell_type": "code",
      "metadata": {
        "colab": {
          "base_uri": "https://localhost:8080/"
        },
        "id": "uKF9dodOA9az",
        "outputId": "48696835-75b2-4eba-fb63-da28e87e36eb"
      },
      "source": [
        "#Problema 2.7\n",
        "A=int(input(\"Ingrese un número entero: \"))\n",
        "B=int(input(\"Ingrese otro número entero: \"))\n",
        "C=int(input(\"Ingrese otro número entero: \"))\n",
        "\n",
        "print(f\"\\nCapturaste como primer número: {A}\")\n",
        "print(f\"Capturaste como segundo número: {B}\")\n",
        "print(f\"Capturaste como tercer número: {C}\")\n",
        "\n",
        "if A==B or B==C or C==A:\n",
        "    print(\"\\nDeben de ser tres números diferentes\")\n",
        "else:\n",
        "    if A<B and B<C:\n",
        "        print(\"Los números están en orden creciente\")\n",
        "    else: \n",
        "        print(\"Los números no están en orden creciente\")\n",
        "\n",
        "\n",
        "print(\"\\nFIN\")\n",
        "\n",
        "\n"
      ],
      "execution_count": null,
      "outputs": [
        {
          "output_type": "stream",
          "name": "stdout",
          "text": [
            "Ingrese un número entero: 5\n",
            "Ingrese otro número entero: 2\n",
            "Ingrese otro número entero: 3\n",
            "\n",
            "Capturaste como primer número: 5\n",
            "Capturaste como segundo número: 2\n",
            "Capturaste como tercer número: 3\n",
            "Los números no están en orden creciente\n",
            "\n",
            "FIN\n"
          ]
        }
      ]
    },
    {
      "cell_type": "code",
      "metadata": {
        "colab": {
          "base_uri": "https://localhost:8080/"
        },
        "id": "yBFNVdAnFME3",
        "outputId": "1cef32cd-e296-4d49-ef0b-b497f570ffbb"
      },
      "source": [
        "# Problema 2.8:\n",
        "COMPRA=float(input(\"Ingrese el monto de la compra: \"))\n",
        "print(f\"Su monto de compra fue: {COMPRA}\")\n",
        "\n",
        "if COMPRA<500:\n",
        "    PAGAR=COMPRA\n",
        "else:\n",
        "    if COMPRA<=1000:\n",
        "        PAGAR= COMPRA- (COMPRA*0.05)\n",
        "    else:\n",
        "        if COMPRA<=7000:\n",
        "            PAGAR=COMPRA-(COMPRA*0.11)\n",
        "        else:\n",
        "            if COMPRA<=15000:\n",
        "                PAGAR=COMPRA-(COMPRA*0.18)\n",
        "            else:\n",
        "                PAGAR=COMPRA-(COMPRA*0.25)\n",
        "print(f\"\\nSu monto total a pagar es de: ${PAGAR}\")\n",
        "print(\"\\nFIN\")"
      ],
      "execution_count": null,
      "outputs": [
        {
          "output_type": "stream",
          "name": "stdout",
          "text": [
            "Ingrese el monto de la compra: 1318.50\n",
            "Su monto de compra fue: 1318.5\n",
            "\n",
            "Su monto total a pagar es de: $1173.465\n",
            "\n",
            "FIN\n"
          ]
        }
      ]
    },
    {
      "cell_type": "code",
      "metadata": {
        "id": "GDWwn_y0IMOl",
        "colab": {
          "base_uri": "https://localhost:8080/"
        },
        "outputId": "d3136383-ea85-445e-f5bc-d5657bf68c49"
      },
      "source": [
        "#Problema 2.9\n",
        "PREBAS=float(input(\"Ingrese el precio básico del producto:\"))\n",
        "print(f\"Ingresaste el precio básico:{PREBAS}\")\n",
        "\n",
        "if PREBAS>500:\n",
        "    IMP=20*0.30 + (PREBAS-40)*0.50\n",
        "else:\n",
        "    if PREBAS>40:\n",
        "        IMP=(20)*(0.30) + (PREBAS- 40)*(0.40)\n",
        "    else:\n",
        "        if PREBAS>20:\n",
        "            IMP= (PREBAS-20)* 0.30\n",
        "        else:\n",
        "            IMP=0\n",
        "PRETOT=PREBAS+IMP\n",
        "print(f\"\\nEl precio básico del producto es: {PREBAS} \\nEl costo total del producto es: {PRETOT}\")\n",
        "\n",
        "print(\"\\nFIN\")"
      ],
      "execution_count": null,
      "outputs": [
        {
          "output_type": "stream",
          "name": "stdout",
          "text": [
            "Ingrese el precio básico del producto:217.80\n",
            "Ingresaste el precio básico:217.8\n",
            "\n",
            "El precio básico del producto es: 217.8 \n",
            "El costo total del producto es: 294.92\n",
            "\n",
            "FIN\n"
          ]
        }
      ]
    },
    {
      "cell_type": "code",
      "metadata": {
        "colab": {
          "base_uri": "https://localhost:8080/"
        },
        "id": "IFM6kPJRIJKG",
        "outputId": "3b842878-4b57-45b0-d0d9-d381adb725a3"
      },
      "source": [
        "#Problema 2.10\n",
        "A=int(input(\"Ingrese un número entero: \"))\n",
        "B=int(input(\"Ingrese un número entero: \"))\n",
        "C=int(input(\"Ingrese un número entero: \"))\n",
        "\n",
        "print(f\"\\nCapuraste como primer número: {A}\")\n",
        "print(f\"Capturaste como segundo número: {B}\")\n",
        "print(f\"Capturaste como tercer número: {C}\")\n",
        "\n",
        "if A>B:\n",
        "    if A>C:\n",
        "        print(f\"{A} es el número mayor\")\n",
        "    else:\n",
        "        if A==C:\n",
        "            print(f\"{A} y {C} son los mayores\")\n",
        "        else:\n",
        "            print(f\"{C} es el mayor\")\n",
        "else:\n",
        "    if A==B:\n",
        "        if A>C:\n",
        "            print(f\"{A} y {B} son los mayores\")\n",
        "        else:\n",
        "            if A==C:\n",
        "                print(f\"{A}, {B} y {C} son iguales\")\n",
        "            else:\n",
        "                print(f\"{C} es el mayor\")\n",
        "    else:\n",
        "        if B>C:\n",
        "            print(f\"{B} es el mayor\")\n",
        "        else:\n",
        "            if B==C:\n",
        "                print(f\"{B} y {C} son los mayores\")\n",
        "            else:\n",
        "                print(f\"{C} es el mayor\")\n",
        "print(\"\\nFIN\")\n",
        "\n"
      ],
      "execution_count": null,
      "outputs": [
        {
          "output_type": "stream",
          "name": "stdout",
          "text": [
            "Ingrese un número entero: 17\n",
            "Ingrese un número entero: 17\n",
            "Ingrese un número entero: 17\n",
            "\n",
            "Capuraste como primer número: 17\n",
            "Capturaste como segundo número: 17\n",
            "Capturaste como tercer número: 17\n",
            "17, 17 y 17 son iguales\n",
            "\n",
            "FIN\n"
          ]
        }
      ]
    },
    {
      "cell_type": "code",
      "metadata": {
        "colab": {
          "base_uri": "https://localhost:8080/"
        },
        "id": "JvNQ2KM3Nnsa",
        "outputId": "e0c7eed0-1164-4579-b50c-1ac172fa45dd"
      },
      "source": [
        "#Problema 2.11\n",
        "CLAVE=int(input(\"Ingresa la clave de la zona geográfica de la llamada:\"))\n",
        "NUMIN=int(input(\"Duración de la llamada en min: \"))\n",
        "\n",
        "print(f\"\\nIngresaste como clave geografica {CLAVE} \")\n",
        "print(f\"La duración de su llamada fue: {NUMIN}min\")\n",
        "\n",
        "if CLAVE==12:\n",
        "    COST=(NUMIN*2)\n",
        "elif CLAVE==15:\n",
        "    COST=(NUMIN*2.2)\n",
        "elif CLAVE==18:\n",
        "    COST=(NUMIN*4.5)\n",
        "elif CLAVE==19:\n",
        "    COST=(NUMIN*3.5)\n",
        "elif CLAVE==23 or CLAVE==25:\n",
        "    COST=(NUMIN*6)\n",
        "elif CLAVE==29:\n",
        "    COST=(NUMIN * 5)\n",
        "\n",
        "print(f\"\\nEl costo total de la llamada es:{COST}\")\n",
        "print(\"\\nFIN\")"
      ],
      "execution_count": null,
      "outputs": [
        {
          "output_type": "stream",
          "name": "stdout",
          "text": [
            "Ingresa la clave de la zona geográfica de la llamada:23\n",
            "Duración de la llamada en min: 5\n",
            "\n",
            "Ingresaste como clave geografica 23 \n",
            "La duración de su llamada fue: 5min\n",
            "\n",
            "El costo total de la llamada es:30\n",
            "\n",
            "FIN\n"
          ]
        }
      ]
    },
    {
      "cell_type": "code",
      "metadata": {
        "colab": {
          "base_uri": "https://localhost:8080/"
        },
        "id": "nejxpbGw8GtN",
        "outputId": "27034712-f6b5-4e70-a02d-a56fcb09ce9f"
      },
      "source": [
        "#Problema 2.12\n",
        "SUE=int(input(\"Ingresa tu sueldo básico: \"))\n",
        "CATE=int(input(\"Ingresa tu categoría: \"))\n",
        "HE=int(input(\"Ingresa las horas extras trabajadas: \"))\n",
        "if CATE<1 and CATE>8:\n",
        "    print(\"Ingresa una categoría válida.\")\n",
        "else:\n",
        "    if CATE==1:\n",
        "        PHE=30\n",
        "    elif CATE==2:\n",
        "        PHE=38\n",
        "    elif CATE==3:\n",
        "        PHE=50\n",
        "    elif CATE==4:\n",
        "        PHE=70\n",
        "    else:\n",
        "        PHE=0\n",
        "    if HE>30:\n",
        "        NSUE=SUE+30*PHE\n",
        "    else:\n",
        "        NSUE=SUE+HE*PHE\n",
        "    print(f\"\\nSu nuevo sueldo es: {NSUE}\")\n",
        "    "
      ],
      "execution_count": null,
      "outputs": [
        {
          "output_type": "stream",
          "name": "stdout",
          "text": [
            "Ingresa tu sueldo básico: 3350\n",
            "Ingresa tu categoría: 3\n",
            "Ingresa las horas extras trabajadas: 49\n",
            "\n",
            "Su nuevo sueldo es: 4850\n"
          ]
        }
      ]
    },
    {
      "cell_type": "code",
      "metadata": {
        "colab": {
          "base_uri": "https://localhost:8080/"
        },
        "id": "92yWWnNyzLJP",
        "outputId": "773d73b6-09a9-4332-e668-d8f4c8e4909e"
      },
      "source": [
        "#Problema 2.13\n",
        "MAT=int(input(\"Ingrese su matrícula: \"))\n",
        "CARR=input(\"Ingrese la carrera que esté incrito: \")\n",
        "CARR=CARR.capitalize()\n",
        "SEM=int(input(\"Ingrese el semestre que tenga aprobobado:\"))\n",
        "PROM=float(input(\"Ingrese su promedio: \"))\n",
        "\n",
        "print(f\"\\nSu matricula es: {MAT} \")\n",
        "print(f\"Ingreso la carrera de {CARR}\")\n",
        "print(f\"Ingreso el semestre aprobado {SEM} \")\n",
        "print(f\"Ingreso como promedio: {PROM}\")\n",
        "\n",
        "if CARR==\"Economía\" or CARR==\"Economia\":\n",
        "    if SEM>=6 and PROM>=8.8:\n",
        "            print(f\"\\nMatricula:{MAT}\\n{CARR}, aceptado\")\n",
        "elif CARR==\"Computación\" or CARR==\"Computacion\":\n",
        "    if SEM>6 and PROM>8.5:\n",
        "         print(f\"\\nMatricula:{MAT}\\n{CARR}, aceptado\")\n",
        "elif CARR==\"Contabilidad\" or CARR==\"Administración\" or CARR==\"Administracion\":\n",
        "    if SEM>5 and PROM>8.5:\n",
        "         print(f\"\\nMatricula:{MAT}\\n{CARR}, aceptado\")\n",
        "\n",
        "print(\"FIN\")"
      ],
      "execution_count": 12,
      "outputs": [
        {
          "output_type": "stream",
          "name": "stdout",
          "text": [
            "Ingrese su matrícula: 25224\n",
            "Ingrese la carrera que esté incrito: computacion\n",
            "Ingrese el semestre que tenga aprobobado:8\n",
            "Ingrese su promedio: 8.7\n",
            "\n",
            "Su matricula es: 25224 \n",
            "Ingreso la carrera de Computacion\n",
            "Ingreso el semestre aprobado 8 \n",
            "Ingreso como promedio: 8.7\n",
            "\n",
            "Matricula:25224\n",
            "Computacion, aceptado\n",
            "FIN\n"
          ]
        }
      ]
    }
  ]
}