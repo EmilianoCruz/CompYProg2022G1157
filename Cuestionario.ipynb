{
  "nbformat": 4,
  "nbformat_minor": 0,
  "metadata": {
    "colab": {
      "name": "Cuestionario.ipynb",
      "provenance": [],
      "authorship_tag": "ABX9TyNw7g+rQt8Gdu3FbiFwdmBv",
      "include_colab_link": true
    },
    "kernelspec": {
      "name": "python3",
      "display_name": "Python 3"
    },
    "language_info": {
      "name": "python"
    }
  },
  "cells": [
    {
      "cell_type": "markdown",
      "metadata": {
        "id": "view-in-github",
        "colab_type": "text"
      },
      "source": [
        "<a href=\"https://colab.research.google.com/github/EmilianoCruz/CompYProg2022G1157/blob/main/Cuestionario.ipynb\" target=\"_parent\"><img src=\"https://colab.research.google.com/assets/colab-badge.svg\" alt=\"Open In Colab\"/></a>"
      ]
    },
    {
      "cell_type": "code",
      "metadata": {
        "colab": {
          "base_uri": "https://localhost:8080/"
        },
        "id": "kll0_NhCIwlh",
        "outputId": "49218323-a046-44ed-f923-b5e6669c42c4"
      },
      "source": [
        "puntuacion = 1\n",
        "print(\"Hola, guapa\\nEspero contestes todo correctamente\")\n",
        "print(\"Tu puntuacion inicial es: 1\")\n",
        "pregunta1 =(input(\"\\n\\n¿Cuál es mi color favorito?\\n\"))\n",
        "print(pregunta1)\n",
        "if pregunta1=='rojo'or pregunta1=='azul':\n",
        "    print(\"Bieeeeen\")\n",
        "    puntuacion = puntuacion + 1\n",
        "else:\n",
        "    print(\"Respuesta incorrecta\")\n",
        "\n",
        "print(\"\\n\\nTu puntuación es:\")\n",
        "print(puntuacion)\n",
        "\n",
        "pregunta2=(input(\"\\n\\n¿Cuál es mi película favorita?\\n\"))\n",
        "print(pregunta2)\n",
        "\n",
        "if pregunta2 == \"el rey leon\" or pregunta2==\"cars\":\n",
        "      print(\"Bieeeeen\")\n",
        "      puntuacion = puntuacion + 1\n",
        "else:\n",
        "     print(\"Mala respuesta, tristeeeeeee\")\n",
        "     puntuacion: puntuacion - 1\n",
        "print(\"Tu puntuación es:\\n\")\n",
        "print(puntuacion)\n",
        "\n",
        "pregunta3=float(input(\"\\n\\n¿Cuánto mido?\\n\")) \n",
        "print(pregunta3)\n",
        "if pregunta3== 1.68:\n",
        "      print(\"UFFFFF, le atinaste\")\n",
        "      puntuacion = puntuacion + 1\n",
        "else:\n",
        "    print(\"Mala respuesta, tristeeeeeee\")\n",
        "    puntuacion = puntuacion - 1\n",
        "print(\\n\"Tu puntuación es:\")\n",
        "print(puntuacion)\n",
        "\n",
        "pregunta4=(input(\"\\n\\n¿Te amo, te adoro o te quiero?\\n\"))\n",
        "print(pregunta4)\n",
        "\n",
        "if pregunta4== \"te amo\" or pregunta4 == \"te adoro\" or pregunta4==\"te quiero\" or \"todas\":\n",
        "      print(\"Efectivamente, me encantas,\\U00002764\")\n",
        "      puntuacion = puntuacion + 1\n",
        "\n",
        "else:\n",
        "    print(\"Mala respuesta, tristeeeeeee\")\n",
        "    puntuacion = puntuacion - 1     \n",
        "\n",
        "print(\"Tu puntuación final es:\")\n",
        "print(puntuacion)\n",
        "\n",
        "\n",
        "\n",
        "\n",
        "\n",
        "  \n"
      ],
      "execution_count": null,
      "outputs": [
        {
          "output_type": "stream",
          "name": "stdout",
          "text": [
            "Hola, guapa\n",
            "Espero contestes todo correctamente\n",
            "Tu puntuacion inicial es: 1\n",
            "\n",
            "\n",
            "¿Cuál es mi color favorito?\n",
            "rojo\n",
            "rojo\n",
            "Bieeeeen\n",
            "\n",
            "\n",
            "Tu puntuación es:\n",
            "2\n",
            "\n",
            "\n",
            "¿Cuál es mi película favorita?\n",
            "forrest gump\n",
            "forrest gump\n",
            "Mala respuesta, tristeeeeeee\n",
            "Tu puntuación es:\n",
            "\n",
            "2\n",
            "\n",
            "\n",
            "¿Cuánto mido?\n",
            "1.60\n",
            "1.6\n",
            "Mala respuesta, tristeeeeeee\n",
            "Tu puntuación es:\n",
            "1\n"
          ]
        }
      ]
    }
  ]
}