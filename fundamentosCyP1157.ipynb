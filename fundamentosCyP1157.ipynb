{
  "nbformat": 4,
  "nbformat_minor": 0,
  "metadata": {
    "colab": {
      "name": "fundamentosCyP1157.ipynb",
      "provenance": [],
      "collapsed_sections": [],
      "authorship_tag": "ABX9TyOXElNRkOT8SIzW+30k/KRQ",
      "include_colab_link": true
    },
    "kernelspec": {
      "name": "python3",
      "display_name": "Python 3"
    },
    "language_info": {
      "name": "python"
    }
  },
  "cells": [
    {
      "cell_type": "markdown",
      "metadata": {
        "id": "view-in-github",
        "colab_type": "text"
      },
      "source": [
        "<a href=\"https://colab.research.google.com/github/EmilianoCruz/CompYProg2022G1157/blob/main/fundamentosCyP1157.ipynb\" target=\"_parent\"><img src=\"https://colab.research.google.com/assets/colab-badge.svg\" alt=\"Open In Colab\"/></a>"
      ]
    },
    {
      "cell_type": "markdown",
      "metadata": {
        "id": "cwqkVGEo1GGe"
      },
      "source": [
        "### 21 de Obtubre del 2021"
      ]
    },
    {
      "cell_type": "code",
      "metadata": {
        "colab": {
          "base_uri": "https://localhost:8080/"
        },
        "id": "UDeq_ZUxXJNT",
        "outputId": "bb81c3f8-0908-4949-a98c-075edd0f56fd"
      },
      "source": [
        "nombre = \"José\" # Tipo de dato String (cadena de caracteres)\n",
        "\n",
        "print( nombre ) "
      ],
      "execution_count": null,
      "outputs": [
        {
          "output_type": "stream",
          "name": "stdout",
          "text": [
            "José\n"
          ]
        }
      ]
    },
    {
      "cell_type": "markdown",
      "metadata": {
        "id": "J-gKwd10XVxz"
      },
      "source": [
        "# Tipos de dato en Python\n",
        "\n",
        "### Tipos simples\n",
        "- str --> String cadena de ccaractéres\n",
        "- int --> Numeros enteros\n",
        "- float--> Numeros con notación de punto flotante\n",
        "- complex --> Numeros complejos\n",
        "- bool --> Boleano (True o False)\n",
        "- byte --> 8 bits \n",
        "\n",
        "### Tipos de datos estructurados (compuestos)\n",
        "- list--> Listas (Arreglos en otros leng)\n",
        "- dict --> diccionarios\n",
        "- set y frozenset --> Conjuntos\n",
        "- tuple --> Listas no mutables\n"
      ]
    },
    {
      "cell_type": "code",
      "metadata": {
        "colab": {
          "base_uri": "https://localhost:8080/"
        },
        "id": "jkV4ZMtjazZo",
        "outputId": "1debdf5e-03f5-4f32-95f0-ab39c76bda86"
      },
      "source": [
        "import sys\n",
        "\n",
        "edad = 19\n",
        "print( \"Tu edad es:\",edad ) # al final de una línea de código\n",
        "# este es un comentario de línea simple\n",
        "\n",
        "\"\"\"\n",
        "Comentario de multiple línea \n",
        "En lenguaje C, C++ y Java el comentario de múltiple línea es con\n",
        "/*  .....  */\n",
        "\n",
        "En lenguaje C, C++ y Java el comentario de una sola línea es con:\n",
        "//\n",
        "Aqui puedes explicar en prosa el segmento de un código para \n",
        "\n",
        "\"\"\"\n",
        "# tipos de datos numerico int y float\n",
        "\n",
        "print ( sys.getsizeof(edad) )\n",
        "# el tipo de dato INT utiliza diferente cantidad de bits según el\n",
        "# leg de prog. por ejemplo en C utiliza 16 bits\n",
        "\n",
        "edad = edad + 1\n",
        "\n",
        "print( edad )\n",
        "\n",
        "estatura = 1.56\n",
        "print ( estatura )\n",
        "print( sys.getsizeof(estatura) )\n",
        "estatura = estatura + 0.1 #no redondea\n",
        "print ( round(estatura,2) ) #redondeo\n",
        "\n",
        "edad += 1 # edad = edad + 1\n",
        "print( edad )\n",
        "\n",
        "edad -= 1 # edad = edad - 1\n",
        "print( edad )\n",
        "\n",
        "edad += 1 # vuelve a 21\n",
        "edad /= 2 # edad = edad / 2\n",
        "print( \"La mitad de tu edad es:\",edad )\n",
        "\n",
        "\n",
        "edad= 21\n",
        "# volver a calcular la mitad de la edad ero solo dejar\n",
        "# parte entera\n",
        "edad = edad // 2 \n",
        "print( \"La mitad de tu edad es:\",edad )\n",
        "\n",
        "# En la mayoría delosleg no permite operaciones entre\n",
        "# diferentes tipos de datos, en python no es el caso \n",
        "\n",
        "numero = edad / 2.0\n",
        "print( numero )\n",
        "\n",
        "numero = numero * 3 # numero *= 3\n",
        "print( numero )\n",
        "\n",
        "numero = 5.0\n",
        "numero = numero ** 2 #Es para portencia\n",
        "print (numero)\n",
        "\n",
        "# operador modulo \n",
        "numero = 21\n",
        "print( numero / 2 )\n",
        "\n"
      ],
      "execution_count": null,
      "outputs": [
        {
          "output_type": "stream",
          "name": "stdout",
          "text": [
            "Tu edad es: 19\n",
            "28\n",
            "20\n",
            "1.56\n",
            "24\n",
            "1.66\n",
            "21\n",
            "20\n",
            "La mitad de tu edad es: 10.5\n",
            "La mitad de tu edad es: 10\n",
            "5.0\n",
            "15.0\n",
            "25.0\n",
            "10.5\n"
          ]
        }
      ]
    },
    {
      "cell_type": "code",
      "metadata": {
        "colab": {
          "base_uri": "https://localhost:8080/"
        },
        "id": "KMbabwNFluKa",
        "outputId": "57c1310a-3297-4098-b19e-3537c0dfeae9"
      },
      "source": [
        "# operador modulo \n",
        "numero = 21\n",
        "print( numero / 2 )\n",
        "print ( numero // 2 )\n",
        "\n",
        "# el operador módulo da como resultado el residuo de una division \n",
        "print( numero % 2 )\n",
        "\n",
        "numero = 24\n",
        "print ( \"Residuo de 24/5:\", numero % 5)\n",
        "\n",
        "print( numero % 2 == 0)\n",
        "\n",
        "\n",
        "#operadores relacionales (lógicos)\n",
        "print (\"24 es par? =\", numero % 2 == 0 )\n",
        "\n",
        "#diferencia \n",
        "print (\"24 es diferente que 23\", numero != 23 )\n",
        "print (\"24 es mayor que 23\", numero > 23)\n",
        "print ( \"24 es menor que 23\", numero < 23)\n",
        "\n",
        "print( \"24 es mayor o igual que 24\", numero >= 24)\n",
        "print (\"24 es menor o igual que 23\", numero <= 23)\n",
        "\n",
        "print(\"El tipo de dato de la var numero es:\" , type(numero))\n",
        "print(\"El tipo de dato de la var numero /2.0 es:\" , type(numero/2.0))"
      ],
      "execution_count": null,
      "outputs": [
        {
          "output_type": "stream",
          "name": "stdout",
          "text": [
            "10.5\n",
            "10\n",
            "1\n",
            "Residuo de 24/5: 4\n",
            "True\n",
            "24 es par? = True\n",
            "24 es diferente que 23 True\n",
            "24 es mayor que 23 True\n",
            "24 es menor que 23 False\n",
            "24 es mayor o igual que 24 True\n",
            "24 es menor o igual que 23 False\n",
            "El tipo de dato de la var numero es: <class 'int'>\n",
            "El tipo de dato de la var numero /2.0 es: <class 'float'>\n"
          ]
        }
      ]
    },
    {
      "cell_type": "markdown",
      "metadata": {
        "id": "b-TOTLGNplRg"
      },
      "source": [
        "#Tipo de dato String (str) en Python\n",
        "- Se maneja como un arreglo ( tipo de dato compuesto)\n",
        "- Se puede acceder a los elementos del string por medio del indice del caracter \n",
        "- Mutable.\n",
        "- Tiene métodos útiles (potentes)\n",
        "- Slicing "
      ]
    },
    {
      "cell_type": "code",
      "metadata": {
        "colab": {
          "base_uri": "https://localhost:8080/"
        },
        "id": "nOKd_3ZrqE-P",
        "outputId": "7f6ba75e-4ae2-4b26-c62b-ffba484f216a"
      },
      "source": [
        "nombre = 'jose' #Palabra simple\n",
        "carrera = \"Ingeniería en computación\"  #Palabra compuesta\n",
        "frase = \"\"\" El conocimiento \n",
        "me persigue\n",
        "pero\n",
        "yo soy más rápido\n",
        "\"\"\" #Para saltos de línea\n",
        "\n",
        "print( nombre)\n",
        "print(carrera)\n",
        "print( frase)\n",
        "\n",
        "#La función type de python te devuelve el tipo de dato de una varibale \n",
        "print( type(nombre))\n",
        "\n",
        "paterno = str(\"Perez\")\n",
        "print( paterno) "
      ],
      "execution_count": null,
      "outputs": [
        {
          "output_type": "stream",
          "name": "stdout",
          "text": [
            "jose\n",
            "Ingeniería en computación\n",
            " El conocimiento\n",
            "me persigue\n",
            "pero\n",
            "yo soy más rápido\n",
            "\n",
            "<class 'str'>\n",
            "Perez\n"
          ]
        }
      ]
    },
    {
      "cell_type": "markdown",
      "metadata": {
        "id": "SyH-ofUmpJQ9"
      },
      "source": [
        "##Una clase (class) es un tipo de dato compuesto "
      ]
    },
    {
      "cell_type": "code",
      "metadata": {
        "colab": {
          "base_uri": "https://localhost:8080/"
        },
        "id": "bYZaB-5SpfeZ",
        "outputId": "f2eef25f-fac4-4733-f65d-236b300fb291"
      },
      "source": [
        "carrera = \"Ingeniería en computación\"\n",
        "print(carrera)\n",
        "print(carrera[2])\n"
      ],
      "execution_count": null,
      "outputs": [
        {
          "output_type": "stream",
          "name": "stdout",
          "text": [
            "Ingeniería en computación\n",
            "g\n"
          ]
        }
      ]
    },
    {
      "cell_type": "markdown",
      "metadata": {
        "id": "8GN5d-s4rkrA"
      },
      "source": [
        "## A la  sintaxis escrita para elegir un elemento de un grupo de datos se le llama selector\n",
        "\n",
        "En el caso de Strings y listas (lst) se usas los caracteres '['y']'\n",
        "\n",
        "1. En todos los lenguajes los arreglos inician en 0.\n",
        "2. En python no existe como tal el tipo de dato arreglo, el concepto es sustituido por las listas.\n",
        "3. Los strings se comportan como un arreglo en la mayoría de los lenguajes\n",
        "4. En python se acepta en indexado negativo, en otros lenguajes NO."
      ]
    },
    {
      "cell_type": "code",
      "metadata": {
        "colab": {
          "base_uri": "https://localhost:8080/"
        },
        "id": "1EF6pBwZsemJ",
        "outputId": "03325d54-cd88-4c78-fe02-6cbb718365eb"
      },
      "source": [
        "carrera = \"Ingeniería en computación\"\n",
        "print(carrera [8])\n",
        "print(carrera [24])\n",
        "print(carrera[-1])\n",
        "print(carrera[-25])\n",
        "\n",
        "#Adelantando el tema ciclo FOR\n",
        "\n",
        "for letra in carrera:\n",
        " print( \"-->\", letra , \"<--\")"
      ],
      "execution_count": null,
      "outputs": [
        {
          "output_type": "stream",
          "name": "stdout",
          "text": [
            "í\n",
            "n\n",
            "n\n",
            "I\n",
            "--> I <--\n",
            "--> n <--\n",
            "--> g <--\n",
            "--> e <--\n",
            "--> n <--\n",
            "--> i <--\n",
            "--> e <--\n",
            "--> r <--\n",
            "--> í <--\n",
            "--> a <--\n",
            "-->   <--\n",
            "--> e <--\n",
            "--> n <--\n",
            "-->   <--\n",
            "--> c <--\n",
            "--> o <--\n",
            "--> m <--\n",
            "--> p <--\n",
            "--> u <--\n",
            "--> t <--\n",
            "--> a <--\n",
            "--> c <--\n",
            "--> i <--\n",
            "--> ó <--\n",
            "--> n <--\n"
          ]
        }
      ]
    },
    {
      "cell_type": "markdown",
      "metadata": {
        "id": "ejGyylStu-ZX"
      },
      "source": [
        "# Slicing (rebanado)  de cadenas\n",
        "\n",
        "Permite seleccionar subcadenas con el operador con el operador \n",
        "#### [ inicio : stop : incremento ]\n",
        "El stop no se incluye, es oir esi que debemos agregar una posición extra.\n",
        "\n",
        "### Slicing y valores por defecto\n",
        "Inicio por defecto siempre será 0 stop: tamaño del arreglo (indexado positivo)\n",
        "\n",
        " 0 (en un indexado negativo)\n",
        "\n",
        " Incrementi: es 1 (indexado positivo)\n",
        "\n"
      ]
    },
    {
      "cell_type": "code",
      "metadata": {
        "colab": {
          "base_uri": "https://localhost:8080/"
        },
        "id": "pogUXNnwvZ5a",
        "outputId": "8aa028e5-b12a-414a-e145-e78038052b18"
      },
      "source": [
        "carrera = \"Ingeniería en computación\"\n",
        "print(carrera[0:10:1])\n",
        "print( carrera[14:25:1])\n",
        "# Con indexado negativo\n",
        "print( carrera[-11::1])\n",
        "print( carrera[:10:])\n",
        "\n",
        "#SOLUCION PREVIA \n",
        "print (\"------\")\n",
        "print( carrera[-11:-1:1])\n",
        "print( carrera[-11::1])\n",
        "\n",
        "#Un ejercicio más para ver incremento \n",
        "print( carrera[0:10:2])\n",
        "print(carrera [-1:-12:-1])\n",
        "print(carrera [-1:-12:-2])"
      ],
      "execution_count": null,
      "outputs": [
        {
          "output_type": "stream",
          "name": "stdout",
          "text": [
            "Ingeniería\n",
            "computación\n",
            "computación\n",
            "Ingeniería\n",
            "------\n",
            "computació\n",
            "computación\n",
            "Igneí\n",
            "nóicatupmoc\n",
            "niaumc\n"
          ]
        }
      ]
    },
    {
      "cell_type": "markdown",
      "metadata": {
        "id": "5SeXGyLE0mIa"
      },
      "source": [
        "#String y sus métodos\n",
        "# Todos los tipos de datos en python son objetos (CLASES de la POO)\n",
        "## dir() y help () funciones para obtener ayuda del lenguaje Python \n",
        "\n",
        "### dir muestra las funciones de un tipo de dato como resumen.\n",
        "\n",
        "### help muestra la misma ayuda pero a detalle.\n",
        "\n",
        "Los métodos que inicias con doble guión bajo son provados de uso interno de la clase y no deberiamos usuarlos.\n",
        "\n",
        "Todos los demás de uso exterior (usuario)"
      ]
    },
    {
      "cell_type": "code",
      "metadata": {
        "colab": {
          "base_uri": "https://localhost:8080/"
        },
        "id": "-plqk0yt064D",
        "outputId": "7eceae08-3b27-499e-b547-fb525bb2cbdb"
      },
      "source": [
        "frutas= \"  limon , fresa, manzana  , aguacate  \"\n",
        "nombre = \"jose\"\n",
        "print (frutas)\n",
        "dir(frutas) #se conoce como métodos (POO)\n",
        "\n",
        "\n",
        "print( nombre.capitalize() )\n",
        "print ( nombre.upper() )\n",
        "print ( frutas.replace('a', '4' ).upper() )\n",
        "print ( frutas.replace('a', '4' ).replace('e', '3').upper() )\n",
        "print (frutas)\n",
        "\n",
        "frutas =  frutas.replace('a', '4' ).replace('e', '3').upper()\n",
        "print (frutas)\n",
        "\n",
        "print(\"-.-.-.-.-..-.-.-.-.-.-.-.-.-.-..-.-\")\n",
        "frutas= \"  limon , fresa, manzana  , aguacate  \"\n",
        "print( frutas.strip() )  \n",
        "print( frutas.split( ',' ) )\n",
        "\n",
        "print(frutas.index('a'))\n"
      ],
      "execution_count": null,
      "outputs": [
        {
          "output_type": "stream",
          "name": "stdout",
          "text": [
            "  limon , fresa, manzana  , aguacate  \n",
            "Jose\n",
            "JOSE\n",
            "  LIMON , FRES4, M4NZ4N4  , 4GU4C4TE  \n",
            "  LIMON , FR3S4, M4NZ4N4  , 4GU4C4T3  \n",
            "  limon , fresa, manzana  , aguacate  \n",
            "  LIMON , FR3S4, M4NZ4N4  , 4GU4C4T3  \n",
            "-.-.-.-.-..-.-.-.-.-.-.-.-.-.-..-.-\n",
            "limon , fresa, manzana  , aguacate\n",
            "['  limon ', ' fresa', ' manzana  ', ' aguacate  ']\n",
            "14\n"
          ]
        }
      ]
    },
    {
      "cell_type": "markdown",
      "metadata": {
        "id": "PHDM4U498XNq"
      },
      "source": [
        "# String y caracteres de escape\n",
        "\n",
        "- \\\\\" --> \"\n",
        "- \\\\' --> '\n",
        "- \\n --> Salto de linea (tecla enter)\n",
        "- \\t --> tabulador spacios a la izq. \n",
        "- \\uxxxx --> Caracteres unicode 16 bits \n",
        "- \\Uxxxxxxxx --> unicode extendido 4 bytes\n",
        "- \\\\\\ --> \\\\ "
      ]
    },
    {
      "cell_type": "code",
      "metadata": {
        "colab": {
          "base_uri": "https://localhost:8080/"
        },
        "id": "fhZ5g8DA84OK",
        "outputId": "1b11cda4-7cbc-47bb-c64b-e678e9ad28f4"
      },
      "source": [
        "print(\"\\\"jose\\\" \")\n",
        "nombre = \"\\\"jose\\\" \"\n",
        "print ( nombre )\n",
        "carrera = \"Ingeniería \\n\\ten \\n\\t\\tComputación\"\n",
        "print( carrera )\n",
        "print(\"---------\")\n",
        "print(\"\\u0065\")#decimos que son caracteres unicode de 16 bits\n",
        "#con u\n",
        "print(\"\\u0444\")\n",
        "print(\"\\u0620\")\n",
        "print(\"\\U00010057\") #se rellena con 0 los espacios restantes\n",
        "print(\"\\U0001F97A\")\n",
        "print(\"\\U0001F9A0\")\n"
      ],
      "execution_count": 8,
      "outputs": [
        {
          "output_type": "stream",
          "name": "stdout",
          "text": [
            "\"jose\" \n",
            "\"jose\" \n",
            "Ingeniería \n",
            "\ten \n",
            "\t\tComputación\n",
            "---------\n",
            "e\n",
            "ф\n",
            "ؠ\n",
            "𐁗\n",
            "🥺\n",
            "🦠\n"
          ]
        }
      ]
    },
    {
      "cell_type": "markdown",
      "metadata": {
        "id": "Fr3ziaRzyLLn"
      },
      "source": [
        "# Funcion print\n",
        "\n",
        "### Se emplea para desplegar informacion en la salida estandar. Normalmente un monitor\n",
        "\n",
        "- Formas de usar print\n",
        "- el argumento por defecto de print (end)\n",
        "- format()\n",
        "- Operador f\" \""
      ]
    },
    {
      "cell_type": "code",
      "metadata": {
        "colab": {
          "base_uri": "https://localhost:8080/"
        },
        "id": "hINhtCtMy9VZ",
        "outputId": "ab358313-3050-40ea-b5d4-f2685fce74bb"
      },
      "source": [
        "nombre= \"Jose\"\n",
        "edad = 18\n",
        "casado = False\n",
        "estatura = 1.67\n",
        "\"\"\"\n",
        "Nombre:Jose\n",
        "  Edad: 18\n",
        "  esta casado : False\n",
        "  Estatura en metros : 1.67\n",
        "\"\"\"\n",
        "#1.- Con comas.- concatena haciendo un casting (conversion a string automatico)\n",
        "#le agrega un espacio\n",
        "print( nombre,edad,casado,estatura)\n",
        "print(\"Nombre: \" + nombre +\"\\n\\tEdad: \"+ str(edad) + \"\\n\\testa casado\")\n",
        "\n",
        "#2.-Con el simbolo de \"+\"\n",
        "# Concatenación en crudo.\n",
        "print( nombre +\" \" +str(edad) + \" \" + str(casado) + \" \" + str(estatura) ) \n",
        "\n",
        "#3 dando formato a la salida con format \n",
        "print(\"\\nCon la función format\")\n",
        "print(\"Nombre: {3}\\n\\tEdad: {2}\\n\\tEsta casado: {1}\\n\\testatura en metros:{0}\".format(nombre,edad,casado,estatura))\n",
        "#le da el valor la función funcion format en {}\n",
        "#cada uno tiene un indice y se puede escoger el orden explicitamente\n",
        "#modificando el orden de las variables \n",
        "\n",
        "print(\"Nombre: {}\\n\\tEdad: {}\\n\\tEsta casado: {}\\n\\testatura en metros:{}\".format(nombre,edad,casado,estatura))\n",
        "\n",
        "#4.-con el operador f \" \"\n",
        "print(\"\\nCon el operador f\\\" \\\"\")\n",
        "print(f\"Nombre: { nombre }\\n\\tEdad: { edad }\\n\\tEsta casado: { casado }\\n\\testatura en metros:{ estatura }\")\n",
        "\n",
        "# Como manejar el argumento end\n",
        "print(\"\\n Como usar el argumento end\")\n",
        "print(f\"Hola {nombre}\" , end=\"\")\n",
        "print(\", como estas?\") \n"
      ],
      "execution_count": 26,
      "outputs": [
        {
          "output_type": "stream",
          "name": "stdout",
          "text": [
            "Jose 18 False 1.67\n",
            "Nombre: Jose\n",
            "\tEdad: 18\n",
            "\testa casado\n",
            "Jose 18 False 1.67\n",
            "\n",
            "Con la función format\n",
            "Nombre: 1.67\n",
            "\tEdad: False\n",
            "\tEsta casado: 18\n",
            "\testatura en metros:Jose\n",
            "Nombre: Jose\n",
            "\tEdad: 18\n",
            "\tEsta casado: False\n",
            "\testatura en metros:1.67\n",
            "\n",
            "Con el operador f\" \"\n",
            "Nombre: Jose\n",
            "\tEdad: 18\n",
            "\tEsta casado: False\n",
            "\testatura en metros:1.67\n",
            "\n",
            " Como usar el argumento end\n",
            "Hola Jose, como estas?\n"
          ]
        }
      ]
    },
    {
      "cell_type": "markdown",
      "metadata": {
        "id": "4rRa9ESi7AMr"
      },
      "source": [
        ""
      ]
    }
  ]
}