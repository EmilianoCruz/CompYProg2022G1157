{
  "nbformat": 4,
  "nbformat_minor": 0,
  "metadata": {
    "colab": {
      "name": "fundamentosCyP1157.ipynb",
      "provenance": [],
      "collapsed_sections": [],
      "authorship_tag": "ABX9TyObVHCk4weTu1WDZAOR0WZA",
      "include_colab_link": true
    },
    "kernelspec": {
      "name": "python3",
      "display_name": "Python 3"
    },
    "language_info": {
      "name": "python"
    }
  },
  "cells": [
    {
      "cell_type": "markdown",
      "metadata": {
        "id": "view-in-github",
        "colab_type": "text"
      },
      "source": [
        "<a href=\"https://colab.research.google.com/github/EmilianoCruz/CompYProg2022G1157/blob/main/fundamentosCyP1157.ipynb\" target=\"_parent\"><img src=\"https://colab.research.google.com/assets/colab-badge.svg\" alt=\"Open In Colab\"/></a>"
      ]
    },
    {
      "cell_type": "code",
      "metadata": {
        "colab": {
          "base_uri": "https://localhost:8080/"
        },
        "id": "UDeq_ZUxXJNT",
        "outputId": "bb81c3f8-0908-4949-a98c-075edd0f56fd"
      },
      "source": [
        "nombre = \"José\" # Tipo de dato String (cadena de caracteres)\n",
        "\n",
        "print( nombre ) "
      ],
      "execution_count": null,
      "outputs": [
        {
          "output_type": "stream",
          "name": "stdout",
          "text": [
            "José\n"
          ]
        }
      ]
    },
    {
      "cell_type": "markdown",
      "metadata": {
        "id": "J-gKwd10XVxz"
      },
      "source": [
        "# Tipos de dato en Python\n",
        "\n",
        "### Tipos simples\n",
        "- str --> String cadena de ccaractéres\n",
        "- int --> Numeros enteros\n",
        "- float--> Numeros con notación de punto flotante\n",
        "- complex --> Numeros complejos\n",
        "- bool --> Boleano (True o False)\n",
        "- byte --> 8 bits \n",
        "\n",
        "### Tipos de datos estructurados (compuestos)\n",
        "-list--> Listas (Arreglos en otros leng)\n",
        "-dict --> diccionarios\n",
        "- set y frozenset --> Conjuntos\n",
        "- tuple --> Listas no mutables\n"
      ]
    },
    {
      "cell_type": "code",
      "metadata": {
        "colab": {
          "base_uri": "https://localhost:8080/"
        },
        "id": "jkV4ZMtjazZo",
        "outputId": "1debdf5e-03f5-4f32-95f0-ab39c76bda86"
      },
      "source": [
        "import sys\n",
        "\n",
        "edad = 19\n",
        "print( \"Tu edad es:\",edad ) # al final de una línea de código\n",
        "# este es un comentario de línea simple\n",
        "\n",
        "\"\"\"\n",
        "Comentario de multiple línea \n",
        "En lenguaje C, C++ y Java el comentario de múltiple línea es con\n",
        "/*  .....  */\n",
        "\n",
        "En lenguaje C, C++ y Java el comentario de una sola línea es con:\n",
        "//\n",
        "Aqui puedes explicar en prosa el segmento de un código para \n",
        "\n",
        "\"\"\"\n",
        "# tipos de datos numerico int y float\n",
        "\n",
        "print ( sys.getsizeof(edad) )\n",
        "# el tipo de dato INT utiliza diferente cantidad de bits según el\n",
        "# leg de prog. por ejemplo en C utiliza 16 bits\n",
        "\n",
        "edad = edad + 1\n",
        "\n",
        "print( edad )\n",
        "\n",
        "estatura = 1.56\n",
        "print ( estatura )\n",
        "print( sys.getsizeof(estatura) )\n",
        "estatura = estatura + 0.1 #no redondea\n",
        "print ( round(estatura,2) ) #redondeo\n",
        "\n",
        "edad += 1 # edad = edad + 1\n",
        "print( edad )\n",
        "\n",
        "edad -= 1 # edad = edad - 1\n",
        "print( edad )\n",
        "\n",
        "edad += 1 # vuelve a 21\n",
        "edad /= 2 # edad = edad / 2\n",
        "print( \"La mitad de tu edad es:\",edad )\n",
        "\n",
        "\n",
        "edad= 21\n",
        "# volver a calcular la mitad de la edad ero solo dejar\n",
        "# parte entera\n",
        "edad = edad // 2 \n",
        "print( \"La mitad de tu edad es:\",edad )\n",
        "\n",
        "# En la mayoría delosleg no permite operaciones entre\n",
        "# diferentes tipos de datos, en python no es el caso \n",
        "\n",
        "numero = edad / 2.0\n",
        "print( numero )\n",
        "\n",
        "numero = numero * 3 # numero *= 3\n",
        "print( numero )\n",
        "\n",
        "numero = 5.0\n",
        "numero = numero ** 2 #Es para portencia\n",
        "print (numero)\n",
        "\n",
        "# operador modulo \n",
        "numero = 21\n",
        "print( numero / 2 )\n",
        "\n"
      ],
      "execution_count": 17,
      "outputs": [
        {
          "output_type": "stream",
          "name": "stdout",
          "text": [
            "Tu edad es: 19\n",
            "28\n",
            "20\n",
            "1.56\n",
            "24\n",
            "1.66\n",
            "21\n",
            "20\n",
            "La mitad de tu edad es: 10.5\n",
            "La mitad de tu edad es: 10\n",
            "5.0\n",
            "15.0\n",
            "25.0\n",
            "10.5\n"
          ]
        }
      ]
    },
    {
      "cell_type": "code",
      "metadata": {
        "colab": {
          "base_uri": "https://localhost:8080/"
        },
        "id": "KMbabwNFluKa",
        "outputId": "abbd8cf9-96bb-47e0-e992-385ddec01997"
      },
      "source": [
        "# operador modulo \n",
        "numero = 21\n",
        "print( numero / 2 )\n",
        "print ( numero // 2 )\n",
        "\n",
        "# el operador módulo da como resultado el residuo de una division \n",
        "print( numero % 2 )\n",
        "\n",
        "numero = 24\n",
        "print ( \"Residuo de 24/5:\", numero % 5)\n",
        "\n",
        "print( numero % 2 == 0)\n",
        "\n",
        "\n",
        "#operadores relacionales (lógicos)\n",
        "print (\"24 es par?\", numero > 24 )\n",
        "\n",
        "#diferencia \n",
        "print (\"24 es diferente que 23\", numero != 23 )\n",
        "print (\"24 es mayor que 23\", numero > 23)\n",
        "print ( \"24 es menor que 23\", numero < 23)\n",
        "\n",
        "print( \"24 es mayor o igual que 24\", numero >= 24)\n",
        "print (\"24 es menor o igual que 23\", numero <= 23)\n",
        "\n",
        "print(\"El tipo de dato de la var numero es:\" , type(numero))\n",
        "print(\"El tipo de dato de la var numero /2.0 es:\" , type(numero/2.0))"
      ],
      "execution_count": 30,
      "outputs": [
        {
          "output_type": "stream",
          "name": "stdout",
          "text": [
            "10.5\n",
            "10\n",
            "1\n",
            "Residuo de 24/5: 4\n",
            "True\n",
            "24 es par? False\n",
            "24 es diferente que 23 True\n",
            "24 es mayor que 23 True\n",
            "24 es menor que 23 False\n",
            "24 es mayor o igual que 24 True\n",
            "24 es menor o igual que 23 False\n",
            "El tipo de dato de la var numero es: <class 'int'>\n",
            "El tipo de dato de la var numero /2.0 es: <class 'float'>\n"
          ]
        }
      ]
    },
    {
      "cell_type": "markdown",
      "metadata": {
        "id": "b-TOTLGNplRg"
      },
      "source": [
        "#Tipo de dato String (str) en Python\n",
        "- Se maneja como un arreglo ( tipo de dato compuesto)\n",
        "- Se puede acceder a los elementos del string por medio del indice del caracter \n",
        "- Mutable.\n",
        "- Tiene métodos útiles (potentes)\n",
        "- Slicing "
      ]
    },
    {
      "cell_type": "code",
      "metadata": {
        "colab": {
          "base_uri": "https://localhost:8080/"
        },
        "id": "nOKd_3ZrqE-P",
        "outputId": "7f6ba75e-4ae2-4b26-c62b-ffba484f216a"
      },
      "source": [
        "nombre = 'jose' #Palabra simple\n",
        "carrera = \"Ingeniería en computación\"  #Palabra compuesta\n",
        "frase = \"\"\" El conocimiento \n",
        "me persigue\n",
        "pero\n",
        "yo soy más rápido\n",
        "\"\"\" #Para saltos de línea\n",
        "\n",
        "print( nombre)\n",
        "print(carrera)\n",
        "print( frase)\n",
        "\n",
        "#La función type de python te devuelve el tipo de dato de una varibale \n",
        "print( type(nombre))\n",
        "\n",
        "paterno = str(\"Perez\")\n",
        "print( paterno) "
      ],
      "execution_count": 31,
      "outputs": [
        {
          "output_type": "stream",
          "name": "stdout",
          "text": [
            "jose\n",
            "Ingeniería en computación\n",
            " El conocimiento\n",
            "me persigue\n",
            "pero\n",
            "yo soy más rápido\n",
            "\n",
            "<class 'str'>\n",
            "Perez\n"
          ]
        }
      ]
    }
  ]
}