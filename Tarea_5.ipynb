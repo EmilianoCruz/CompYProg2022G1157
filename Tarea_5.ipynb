{
  "nbformat": 4,
  "nbformat_minor": 0,
  "metadata": {
    "colab": {
      "name": "Tarea 5.ipynb",
      "provenance": [],
      "collapsed_sections": [],
      "authorship_tag": "ABX9TyMrLtM9lHZdXbP6HNjx+pWv",
      "include_colab_link": true
    },
    "kernelspec": {
      "name": "python3",
      "display_name": "Python 3"
    },
    "language_info": {
      "name": "python"
    }
  },
  "cells": [
    {
      "cell_type": "markdown",
      "metadata": {
        "id": "view-in-github",
        "colab_type": "text"
      },
      "source": [
        "<a href=\"https://colab.research.google.com/github/EmilianoCruz/CompYProg2022G1157/blob/main/Tarea_5.ipynb\" target=\"_parent\"><img src=\"https://colab.research.google.com/assets/colab-badge.svg\" alt=\"Open In Colab\"/></a>"
      ]
    },
    {
      "cell_type": "code",
      "metadata": {
        "colab": {
          "base_uri": "https://localhost:8080/"
        },
        "id": "8x6Fmm4CNvo3",
        "outputId": "af7932d5-b31a-4d16-88b6-6ca5b33a65ce"
      },
      "source": [
        "#problema1\n",
        "numero1=int( input(\"Ingresa un número entero: \"))\n",
        "numero2= int( input(\"Ingresa otro número entero: \"))\n",
        "print(f\"\\nCapturaste como primer número, el número {numero1}\")\n",
        "print(f\"Capturaste como segundo número, el número {numero2}\")\n",
        "\n",
        "if numero1<numero2:\n",
        "    print(f\"\\nEl numero mayor es: {numero2} \")\n",
        "    print(f\"El número menor es: {numero1}\")\n",
        "elif numero1>numero2:\n",
        "    print(f\"\\nEl numero mayor es: {numero1}\")\n",
        "    print(f\"El numero menor es: {numero2}\")\n",
        "\n",
        "else: \n",
        "    print(\"\\nAmbos números son iguales\")\n"
      ],
      "execution_count": 13,
      "outputs": [
        {
          "output_type": "stream",
          "name": "stdout",
          "text": [
            "Ingresa un número entero: 5\n",
            "Ingresa otro número entero: 1658\n",
            "\n",
            "Capturaste como primer número, el número 5\n",
            "Capturaste como segundo número, el número 1658\n",
            "\n",
            "El numero mayor es: 1658 \n",
            "El número menor es: 5\n"
          ]
        }
      ]
    },
    {
      "cell_type": "code",
      "metadata": {
        "colab": {
          "base_uri": "https://localhost:8080/"
        },
        "id": "keckdMPmOfgA",
        "outputId": "672c1624-c58e-48e5-b752-6c823fdd92dc"
      },
      "source": [
        "#problema2\n",
        "numero1= int( input(\"Ingresa un número entero: \"))\n",
        "numero2= int( input(\"Ingresa otro número diferente entero: \"))\n",
        "numero3= int( input(\"Ingresa un último número diferente:\"))\n",
        "\n",
        "print(f\"\\nCapturaste como primer número: {numero1}\")\n",
        "print(f\"Capturaste como segundo número: {numero2}\")\n",
        "print(f\"Capturaste como tercer número: {numero3} \")\n",
        "\n",
        "if numero1>numero2 and numero1>numero3:\n",
        "    print(f\"\\nEl número mayor es: {numero1}\")\n",
        "elif numero2>numero1 and numero2>numero3:\n",
        "    print(f\"\\nEl número mayor es: {numero2}\")\n",
        "else:\n",
        "    print(f\"\\nEl número mayor es: {numero3}\")\n"
      ],
      "execution_count": 20,
      "outputs": [
        {
          "output_type": "stream",
          "name": "stdout",
          "text": [
            "Ingresa un número entero: 1657\n",
            "Ingresa otro número diferente entero: 26895\n",
            "Ingresa un último número diferente:13574\n",
            "\n",
            "Capturaste como primer número: 1657\n",
            "Capturaste como segundo número: 26895\n",
            "Capturaste como tercer número: 13574 \n",
            "\n",
            "El número mayor es: 26895\n"
          ]
        }
      ]
    },
    {
      "cell_type": "code",
      "metadata": {
        "colab": {
          "base_uri": "https://localhost:8080/"
        },
        "id": "7iTPNysNTw80",
        "outputId": "435bdace-3a1f-4154-db3e-3b9f94557f8f"
      },
      "source": [
        "#Problema3\n",
        "numero1= int( input(\"Ingresa un número entero: \"))\n",
        "numero2= int( input(\"Ingresa otro número entero diferente : \"))\n",
        "numero3= int( input(\"Ingresa un último número entero diferente:\"))\n",
        "\n",
        "print(f\"\\nCapturaste como primer número: {numero1}\")\n",
        "print(f\"Capturaste como segundo número: {numero2}\")\n",
        "print(f\"Capturaste como tercer número: {numero3} \")\n",
        "\n",
        "if numero1<numero2 and numero1<numero3:\n",
        "    print(f\"\\nEl número menor es: {numero1}\")\n",
        "elif numero2<numero1 and numero2<numero3:\n",
        "    print(f\"\\nEl número menor es: {numero2}\")\n",
        "else:\n",
        "    print(f\"\\nEl número menor es: {numero3}\")"
      ],
      "execution_count": 22,
      "outputs": [
        {
          "output_type": "stream",
          "name": "stdout",
          "text": [
            "Ingresa un número entero: 5\n",
            "Ingresa otro número diferente entero: 9\n",
            "Ingresa un último número diferente:10\n",
            "\n",
            "Capturaste como primer número: 5\n",
            "Capturaste como segundo número: 9\n",
            "Capturaste como tercer número: 10 \n",
            "\n",
            "El número menor es: 5\n"
          ]
        }
      ]
    },
    {
      "cell_type": "code",
      "metadata": {
        "colab": {
          "base_uri": "https://localhost:8080/"
        },
        "id": "MEmqCmPBXMm-",
        "outputId": "6158bdd8-f0c0-4198-b4d2-95956609e76d"
      },
      "source": [
        "#problema 4\n",
        "numero1= int( input(\"Ingresa un número entero: \"))\n",
        "numero2= int( input(\"Ingresa un número entero diferente: \"))\n",
        "numero3= int( input(\"Ingresa un número entero diferente: \"))\n",
        "numero4= int( input(\"Ingresa un último número entero diferente: \"))\n",
        "\n",
        "print(f\"\\nCapturaste como primer número:{numero1}\")\n",
        "print(f\"Capturaste como segundo número:{numero2}\")\n",
        "print(f\"Capturaste como tercer número:{numero3} \")\n",
        "print(f\"Capturaste como cuarto número:{numero4}\")\n",
        "\n",
        "if numero1>numero2 and numero1>numero3 and numero1>numero4:\n",
        "        print(f\"\\nEl número mayor es: {numero1}\")\n",
        "elif numero2>numero1 and numero2>numero3 and numero2>numero4 :\n",
        "        print(f\"\\nEl número mayor es: {numero2}\")\n",
        "elif numero3>numero2 and numero3>numero1 and numero3>numero4:\n",
        "        print(f\"\\nEl número mayor es: {numero3}\")\n",
        "else:\n",
        "    print(f\"\\nEl número mayor es: {numero4}\")\n",
        "\n",
        "\n",
        "if numero1<numero2 and numero1<numero3 and numero1<numero4:\n",
        "        print(f\"\\nEl número menor es: {numero1}\")\n",
        "elif numero2<numero1 and numero2<numero3 and numero2<numero4 :\n",
        "        print(f\"\\nEl número menor es: {numero2}\")\n",
        "elif numero3<numero2 and numero3<numero1 and numero3<numero4:\n",
        "        print(f\"\\nEl número menor es: {numero3}\")\n",
        "else:\n",
        "    print(f\"\\nEl número menor es: {numero4}\")\n",
        "\n"
      ],
      "execution_count": 31,
      "outputs": [
        {
          "output_type": "stream",
          "name": "stdout",
          "text": [
            "Ingresa un número entero: 26\n",
            "Ingresa un número entero diferente: 897\n",
            "Ingresa un número entero diferente: 14789\n",
            "Ingresa un último número entero diferente: 64789\n",
            "\n",
            "Capturaste como primer número:26\n",
            "Capturaste como segundo número:897\n",
            "Capturaste como tercer número:14789 \n",
            "Capturaste como cuarto número:64789\n",
            "\n",
            "El número mayor es: 64789\n",
            "\n",
            "El número menor es: 26\n"
          ]
        }
      ]
    }
  ]
}