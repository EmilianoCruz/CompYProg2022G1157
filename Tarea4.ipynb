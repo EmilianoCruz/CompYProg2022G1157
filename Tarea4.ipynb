{
  "nbformat": 4,
  "nbformat_minor": 0,
  "metadata": {
    "colab": {
      "name": "Tarea4.ipynb",
      "provenance": [],
      "authorship_tag": "ABX9TyO3jQUDG4jQqthXGWUAE5rz",
      "include_colab_link": true
    },
    "kernelspec": {
      "name": "python3",
      "display_name": "Python 3"
    },
    "language_info": {
      "name": "python"
    }
  },
  "cells": [
    {
      "cell_type": "markdown",
      "metadata": {
        "id": "view-in-github",
        "colab_type": "text"
      },
      "source": [
        "<a href=\"https://colab.research.google.com/github/EmilianoCruz/CompYProg2022G1157/blob/main/Tarea4.ipynb\" target=\"_parent\"><img src=\"https://colab.research.google.com/assets/colab-badge.svg\" alt=\"Open In Colab\"/></a>"
      ]
    },
    {
      "cell_type": "code",
      "metadata": {
        "colab": {
          "base_uri": "https://localhost:8080/"
        },
        "id": "jUYXdN0_8EXK",
        "outputId": "894bf185-b6ee-4541-835c-8f593b08db9f"
      },
      "source": [
        "print(\"\"\"\n",
        "EEEEEEE\n",
        "EE\n",
        "EEEE\n",
        "EE\n",
        "EEEEEEE\"\"\")\n",
        "\n",
        "print(\"\"\"\n",
        "MM   MM\n",
        "M M M M\n",
        "M  M  M\n",
        "M     M\n",
        "M     M\"\"\")\n",
        "\n",
        "print(\"\"\"\n",
        "IIIIIIII\n",
        "   II\n",
        "   II\n",
        "   II\n",
        "IIIIIIII  \"\"\" )\n",
        "\n",
        "print(\"\"\"\n",
        "LL\n",
        "LL\n",
        "LL\n",
        "LL\n",
        "LLLLLL \"\"\")\n",
        "\n",
        "print(\"\"\"\n",
        "IIIIIIII\n",
        "   II   \n",
        "   II\n",
        "   II\n",
        "IIIIIIII \"\"\")\n",
        "\n",
        "print(\"\"\"\n",
        "    A\n",
        "   A A\n",
        "  A   A\n",
        " A A A A\n",
        "A       A \"\"\")\n",
        "\n",
        "print(\"\"\"\n",
        "NN    N\n",
        "N N   N\n",
        "N  N  N\n",
        "N   N N\n",
        "N    NN  \"\"\") \n",
        "\n",
        "print(\"\"\"\n",
        " OOOO\n",
        "O    O\n",
        "O    O\n",
        "O    O\n",
        " OOOO  \"\"\" )"
      ],
      "execution_count": 28,
      "outputs": [
        {
          "output_type": "stream",
          "name": "stdout",
          "text": [
            "\n",
            "EEEEEEE\n",
            "EE\n",
            "EEEE\n",
            "EE\n",
            "EEEEEEE\n",
            "\n",
            "MM   MM\n",
            "M M M M\n",
            "M  M  M\n",
            "M     M\n",
            "M     M\n",
            "\n",
            "IIIIIIII\n",
            "   II\n",
            "   II\n",
            "   II\n",
            "IIIIIIII  \n",
            "\n",
            "LL\n",
            "LL\n",
            "LL\n",
            "LL\n",
            "LLLLLL \n",
            "\n",
            "IIIIIIII\n",
            "   II   \n",
            "   II\n",
            "   II\n",
            "IIIIIIII \n",
            "\n",
            "    A\n",
            "   A A\n",
            "  A   A\n",
            " A A A A\n",
            "A       A \n",
            "\n",
            "NN    N\n",
            "N N   N\n",
            "N  N  N\n",
            "N   N N\n",
            "N    NN  \n",
            "\n",
            " OOOO\n",
            "O    O\n",
            "O    O\n",
            "O    O\n",
            " OOOO  \n"
          ]
        }
      ]
    },
    {
      "cell_type": "code",
      "metadata": {
        "colab": {
          "base_uri": "https://localhost:8080/"
        },
        "id": "JLMsssZAHoMx",
        "outputId": "6fe832dc-4af8-4989-d3b1-c7accd474ce1"
      },
      "source": [
        "print( \"EEEEEEE\\nEE\\nEEEE\\nEE\\nEEEEEEE\" )\n",
        "print( \"\\nMM   MM \\nM M  MM\\nM  M  M\\nM     M\\nM     M\")\n",
        "print( \"\\nIIIIIIII\\n   II   \\n   II   \\n   II   \\nIIIIIIII\")\n",
        "print( \"\\nLL\\nLL\\nLL\\nLL\\nLLLLLLLL\")\n",
        "print( \"\\nIIIIIIII\\n   II   \\n   II   \\n   II   \\nIIIIIIII\")\n",
        "print( \"\\n    A\\n   A A\\n  A   A\\n A A A A\\nA       A\")\n",
        "print(\"\\nNN    N\\nN N   N\\nN  N  N\\nN   N N\\nN    NN\")\n",
        "print(\"\\n  OOOO\\n O    O\\n O    O\\n O    O\\n  OOOO\")"
      ],
      "execution_count": 38,
      "outputs": [
        {
          "output_type": "stream",
          "name": "stdout",
          "text": [
            "EEEEEEE\n",
            "EE\n",
            "EEEE\n",
            "EE\n",
            "EEEEEEE\n",
            "\n",
            "MM   MM \n",
            "M M  MM\n",
            "M  M  M\n",
            "M     M\n",
            "M     M\n",
            "\n",
            "IIIIIIII\n",
            "   II   \n",
            "   II   \n",
            "   II   \n",
            "IIIIIIII\n",
            "\n",
            "LL\n",
            "LL\n",
            "LL\n",
            "LL\n",
            "LLLLLLLL\n",
            "\n",
            "IIIIIIII\n",
            "   II   \n",
            "   II   \n",
            "   II   \n",
            "IIIIIIII\n",
            "\n",
            "    A\n",
            "   A A\n",
            "  A   A\n",
            " A A A A\n",
            "A       A\n",
            "\n",
            "NN    N\n",
            "N N   N\n",
            "N  N  N\n",
            "N   N N\n",
            "N    NN\n",
            "\n",
            "  OOOO\n",
            " O    O\n",
            " O    O\n",
            " O    O\n",
            "  OOOO\n"
          ]
        }
      ]
    },
    {
      "cell_type": "code",
      "metadata": {
        "colab": {
          "base_uri": "https://localhost:8080/"
        },
        "id": "EOyyufu9HpGD",
        "outputId": "5f959a71-8c94-45d2-b2ea-1f2b8d09597b"
      },
      "source": [
        "print( \"\"\"\n",
        "EEEEEE   MM   MM  IIIIIIII LL     IIIIIIII      A     NN    N    OOOO\n",
        "E        M M M M     II    LL        II        A A    N N   N   O    O\n",
        "EEEE     M  M  M     II    LL        II       A   A   N  N  N   O    O\n",
        "E        M     M     II    LL        II      AAAAAAA  N   N N   O    O\n",
        "EEEEEE   M     M  IIIIIIII LLLLLL IIIIIIII  A       A N    NN    OOOO\n",
        " \"\"\")"
      ],
      "execution_count": 7,
      "outputs": [
        {
          "output_type": "stream",
          "name": "stdout",
          "text": [
            "\n",
            "EEEEEE   MM   MM  IIIIIIII LL     IIIIIIII      A     NN    N    OOOO\n",
            "E        M M M M     II    LL        II        A A    N N   N   O    O\n",
            "EEEE     M  M  M     II    LL        II       A   A   N  N  N   O    O\n",
            "E        M     M     II    LL        II      AAAAAAA  N   N N   O    O\n",
            "EEEEEE   M     M  IIIIIIII LLLLLL IIIIIIII  A       A N    NN    OOOO\n",
            " \n"
          ]
        }
      ]
    }
  ]
}