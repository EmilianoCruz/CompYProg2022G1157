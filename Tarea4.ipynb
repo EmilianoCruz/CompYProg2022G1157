{
  "nbformat": 4,
  "nbformat_minor": 0,
  "metadata": {
    "colab": {
      "name": "Tarea4.ipynb",
      "provenance": [],
      "authorship_tag": "ABX9TyNQn3jdFEfz8xNrlojNib7n",
      "include_colab_link": true
    },
    "kernelspec": {
      "name": "python3",
      "display_name": "Python 3"
    },
    "language_info": {
      "name": "python"
    }
  },
  "cells": [
    {
      "cell_type": "markdown",
      "metadata": {
        "id": "view-in-github",
        "colab_type": "text"
      },
      "source": [
        "<a href=\"https://colab.research.google.com/github/EmilianoCruz/CompYProg2022G1157/blob/main/Tarea4.ipynb\" target=\"_parent\"><img src=\"https://colab.research.google.com/assets/colab-badge.svg\" alt=\"Open In Colab\"/></a>"
      ]
    },
    {
      "cell_type": "code",
      "metadata": {
        "colab": {
          "base_uri": "https://localhost:8080/"
        },
        "id": "kdyhquMZ2Sky",
        "outputId": "bd90f6e2-e4f3-4ca4-e701-bd60c3105c7a"
      },
      "source": [
        "print( \"\"\"\n",
        "EEEEEE   MM   MM  IIIIIIII LL     IIIIIIII      A     NN    N    OOOO\n",
        "E        M M M M     II    LL        II        A A    N N   N   O    O\n",
        "EEEE     M  M  M     II    LL        II       A   A   N  N  N   O    O\n",
        "E        M     M     II    LL        II      AAAAAAA  N   N N   O    O\n",
        "EEEEEE   M     M  IIIIIIII LLLLLL IIIIIIII  A       A N    NN    OOOO\n",
        " \"\"\")"
      ],
      "execution_count": 3,
      "outputs": [
        {
          "output_type": "stream",
          "name": "stdout",
          "text": [
            "\n",
            "EEEEEE   MM   MM  IIIIIIII LL     IIIIIIII      A     NN    N    OOOO\n",
            "E        M M M M     II    LL        II        A A    N N   N   O    O\n",
            "EEEE     M  M  M     II    LL        II       A   A   N  N  N   O    O\n",
            "E        M     M     II    LL        II      AAAAAAA  N   N N   O    O\n",
            "EEEEEE   M     M  IIIIIIII LLLLLL IIIIIIII  A       A N    NN    OOOO\n",
            " \n"
          ]
        }
      ]
    },
    {
      "cell_type": "code",
      "metadata": {
        "colab": {
          "base_uri": "https://localhost:8080/"
        },
        "id": "jUYXdN0_8EXK",
        "outputId": "ae525f4c-292a-4589-9f44-b676f0eefccc"
      },
      "source": [
        "print(\"\"\"\n",
        "EEEEEEE\n",
        "EE\n",
        "EEEE\n",
        "EE\n",
        "EEEEEEE\"\"\")\n",
        "\n",
        "print(\"\"\"\n",
        "MM   MM\n",
        "M M M M\n",
        "M  M  M\n",
        "M     M\n",
        "M     M\"\"\")\n",
        "\n",
        "print(\"\"\"\n",
        "IIIIIIII\n",
        "   II\n",
        "   II\n",
        "   II\n",
        "IIIIIIII  \"\"\" )\n",
        "\n",
        "print(\"\"\"\n",
        "LL\n",
        "LL\n",
        "LL\n",
        "LL\n",
        "LLLLLL \"\"\")\n",
        "\n",
        "print(\"\"\"\n",
        "IIIIIIII\n",
        "   II\n",
        "   II\n",
        "   II\n",
        "IIIIIIII \"\"\")\n",
        "\n",
        "print(\"\"\"\n",
        "    A\n",
        "   A A\n",
        "  A   A\n",
        " A A A A\n",
        "A       A \"\"\")\n",
        "\n",
        "print(\"\"\"\n",
        "NN    N\n",
        "N N   N\n",
        "N  N  N\n",
        "N   N N\n",
        "N    NN  \"\"\") \n",
        "\n",
        "print(\"\"\"\n",
        " OOOO\n",
        "O    O\n",
        "O    O\n",
        "O    O\n",
        " OOOO  \"\"\" )"
      ],
      "execution_count": 6,
      "outputs": [
        {
          "output_type": "stream",
          "name": "stdout",
          "text": [
            "\n",
            "EEEEEEE\n",
            "EE\n",
            "EEEE\n",
            "EE\n",
            "EEEEEEE\n",
            "\n",
            "MM   MM\n",
            "M M M M\n",
            "M  M  M\n",
            "M     M\n",
            "M     M\n",
            "\n",
            "IIIIIIII\n",
            "   II\n",
            "   II\n",
            "   II\n",
            "IIIIIIII  \n",
            "\n",
            "LL\n",
            "LL\n",
            "LL\n",
            "LL\n",
            "LLLLLL \n",
            "\n",
            "IIIIIIII\n",
            "   II\n",
            "   II\n",
            "   II\n",
            "IIIIIIII \n",
            "\n",
            "    A\n",
            "   A A\n",
            "  A   A\n",
            " A A A A\n",
            "A       A \n",
            "\n",
            "NN    N\n",
            "N N   N\n",
            "N  N  N\n",
            "N   N N\n",
            "N    NN  \n",
            "\n",
            " OOOO\n",
            "O    O\n",
            "O    O\n",
            "O    O\n",
            " OOOO  \n"
          ]
        }
      ]
    }
  ]
}